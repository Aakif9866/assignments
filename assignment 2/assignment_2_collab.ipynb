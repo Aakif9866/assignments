{
  "cells": [
    {
      "cell_type": "markdown",
      "metadata": {
        "id": "view-in-github",
        "colab_type": "text"
      },
      "source": [
        "<a href=\"https://colab.research.google.com/github/Aakif9866/assignments/blob/main/assignment%202/assignment_2_collab.ipynb\" target=\"_parent\"><img src=\"https://colab.research.google.com/assets/colab-badge.svg\" alt=\"Open In Colab\"/></a>"
      ]
    },
    {
      "cell_type": "code",
      "execution_count": null,
      "metadata": {
        "id": "NWqgaAbxS46S"
      },
      "outputs": [],
      "source": [
        "#1 importance of functions\n",
        "\n",
        "# promote code reusability\n",
        "# enhance code readability\n",
        "# facilitate maintenance\n",
        "# encourage modular design\n",
        "# promote abstraction\n"
      ]
    },
    {
      "cell_type": "code",
      "execution_count": null,
      "metadata": {
        "id": "moSLK0z_S46V",
        "outputId": "7f783f1e-f8a1-4c76-8271-f1d7540a0798"
      },
      "outputs": [
        {
          "name": "stdout",
          "output_type": "stream",
          "text": [
            "Hello, Alice!\n",
            "None\n"
          ]
        }
      ],
      "source": [
        "#2 Write a basic function to greet students\n",
        "\n",
        "def greet_students(name):\n",
        "    return print(\"Hello, {}!\".format(name))\n",
        "\n",
        "# Example usage\n",
        "print(greet_students(\"Aakif\"))\n"
      ]
    },
    {
      "cell_type": "code",
      "execution_count": null,
      "metadata": {
        "id": "SC1ALQwKS46Y",
        "outputId": "66141949-ab35-4f55-d758-bdb457beefc4"
      },
      "outputs": [
        {
          "name": "stdout",
          "output_type": "stream",
          "text": [
            "Hello!\n",
            "Hello!\n"
          ]
        }
      ],
      "source": [
        "# 3 diff b/w print and return and print statements\n",
        "\n",
        "def say_hello():\n",
        "    print(\"Hello!\")\n",
        "\n",
        "say_hello()\n",
        "\n",
        "\n",
        "def get_greeting():\n",
        "    return \"Hello!\"\n",
        "\n",
        "greeting = get_greeting()\n",
        "print(greeting)\n",
        "\n"
      ]
    },
    {
      "cell_type": "code",
      "execution_count": null,
      "metadata": {
        "id": "k_3ZsjLiS46Y"
      },
      "outputs": [],
      "source": []
    },
    {
      "cell_type": "code",
      "execution_count": null,
      "metadata": {
        "id": "YQJEDyK0S46Z"
      },
      "outputs": [],
      "source": [
        "# 5. Explain the iterator function\n",
        "# An iterator is an object that implements the iterator protocol, consisting of the methods __iter__() and __next__(). Iterators are used to iterate over iterable objects like lists, tuples, and strings.\n",
        "\n",
        "# __iter__(): Returns the iterator object itself.\n",
        "# __next__(): Returns the next value from the iterator. If there are no more items to return, it raises a StopIteration exception."
      ]
    },
    {
      "cell_type": "code",
      "execution_count": null,
      "metadata": {
        "id": "7CbI8jNwS46Z",
        "outputId": "6ccd8e0b-320f-49cf-8517-d5c59337e575"
      },
      "outputs": [
        {
          "name": "stdout",
          "output_type": "stream",
          "text": [
            "1\n",
            "4\n",
            "9\n",
            "16\n",
            "25\n"
          ]
        }
      ],
      "source": [
        "# 6 Write a code that generates the squares of numbers from 1 to n using a generator\n",
        "\n",
        "\n",
        "\n",
        "def square_numbers(n):\n",
        "    for i in range(1, n+1):\n",
        "        yield i * i\n",
        "\n",
        "# Example usage\n",
        "for square in square_numbers(5):\n",
        "    print(square)"
      ]
    },
    {
      "cell_type": "code",
      "execution_count": null,
      "metadata": {
        "id": "_vY0msnGS46a",
        "outputId": "c5d3d659-115c-4f03-cad2-c86a85f33768"
      },
      "outputs": [
        {
          "name": "stdout",
          "output_type": "stream",
          "text": [
            "1\n",
            "2\n",
            "3\n",
            "4\n",
            "5\n",
            "6\n",
            "7\n",
            "8\n",
            "9\n",
            "11\n",
            "22\n",
            "33\n",
            "44\n",
            "55\n",
            "66\n",
            "77\n",
            "88\n",
            "99\n"
          ]
        }
      ],
      "source": [
        "\n",
        "#7 generate palindrome using generator\n",
        "\n",
        "def palindromic_numbers(n):\n",
        "    for i in range(1, n+1):\n",
        "        if str(i) == str(i)[::-1]:\n",
        "            yield i\n",
        "\n",
        "for palindrome in palindromic_numbers(100):\n",
        "    print(palindrome)\n"
      ]
    },
    {
      "cell_type": "code",
      "execution_count": null,
      "metadata": {
        "id": "ERuZJOvDS46a",
        "outputId": "52936fd2-8a15-41f4-8f01-ce77cf44e7ac"
      },
      "outputs": [
        {
          "name": "stdout",
          "output_type": "stream",
          "text": [
            "2\n",
            "4\n",
            "6\n",
            "8\n",
            "10\n"
          ]
        }
      ],
      "source": [
        "#8  write a code that generates 2 to n even nos using generator\n",
        "\n",
        "def even_numbers(n):\n",
        "    for i in range(2, n+1, 2):\n",
        "        yield i\n",
        "\n",
        "for even in even_numbers(10):\n",
        "    print(even)\n"
      ]
    },
    {
      "cell_type": "code",
      "execution_count": null,
      "metadata": {
        "id": "kolfE9fLS46b",
        "outputId": "0ef0f5f5-454a-40d8-c87f-bf4c5a55afbb"
      },
      "outputs": [
        {
          "name": "stdout",
          "output_type": "stream",
          "text": [
            "1\n",
            "2\n",
            "4\n",
            "8\n",
            "16\n",
            "32\n",
            "64\n"
          ]
        }
      ],
      "source": [
        "#9 Write a code that generates powers of two up to n using a generator\n",
        "\n",
        "def powers_of_two(n):\n",
        "    power = 1\n",
        "    while power <= n:\n",
        "        yield power\n",
        "        power *= 2\n",
        "\n",
        "for power in powers_of_two(64):\n",
        "    print(power)"
      ]
    },
    {
      "cell_type": "code",
      "execution_count": null,
      "metadata": {
        "id": "eW6ZTG0rS46b",
        "outputId": "a8edb67e-9c8a-4aef-e8be-9416533c88c3"
      },
      "outputs": [
        {
          "name": "stdout",
          "output_type": "stream",
          "text": [
            "2\n",
            "3\n",
            "5\n",
            "7\n",
            "11\n",
            "13\n",
            "17\n",
            "19\n"
          ]
        }
      ],
      "source": [
        "#10 Write a code that generates prime numbers up to n using a generator\n",
        "\n",
        "\n",
        "def is_prime(num):\n",
        "    if num < 2:\n",
        "        return False\n",
        "    for i in range(2, int(num ** 0.5) + 1):\n",
        "        if num % i == 0:\n",
        "            return False\n",
        "    return True\n",
        "\n",
        "def prime_numbers(n):\n",
        "    for num in range(2, n+1):\n",
        "        if is_prime(num):\n",
        "            yield num\n",
        "\n",
        "for prime in prime_numbers(20):\n",
        "    print(prime)"
      ]
    },
    {
      "cell_type": "code",
      "execution_count": null,
      "metadata": {
        "id": "EVt5OeW5S46c",
        "outputId": "b1f23560-e3bc-42b0-83ca-1e385322caf1"
      },
      "outputs": [
        {
          "name": "stdout",
          "output_type": "stream",
          "text": [
            "8\n"
          ]
        }
      ],
      "source": [
        "#11 Write a code that uses a lambda function to calculate the sum of two numbers\n",
        "\n",
        "\n",
        "sum_two_numbers = lambda x, y: x + y\n",
        "\n",
        "print(sum_two_numbers(3, 5))"
      ]
    },
    {
      "cell_type": "code",
      "execution_count": null,
      "metadata": {
        "id": "KfKvtWv6S46c",
        "outputId": "356ecbe0-3a44-4286-a0f0-2854716fdc29"
      },
      "outputs": [
        {
          "name": "stdout",
          "output_type": "stream",
          "text": [
            "1156\n"
          ]
        }
      ],
      "source": [
        "# 12 square of a given number using lambda function\n",
        "\n",
        "square =  lambda x: x*x\n",
        "\n",
        "print(square(34))"
      ]
    },
    {
      "cell_type": "code",
      "execution_count": null,
      "metadata": {
        "id": "gDa7ZWbJS46d",
        "outputId": "ab085265-4a99-4a4e-f860-24ecb8966177"
      },
      "outputs": [
        {
          "name": "stdout",
          "output_type": "stream",
          "text": [
            "True\n",
            "False\n"
          ]
        }
      ],
      "source": [
        "# 13 Write a code that uses a lambda function to check whether a given number is even or odd\n",
        "\n",
        "is_even = lambda x: x % 2 == 0\n",
        "\n",
        "print(is_even(4))\n",
        "print(is_even(3))"
      ]
    },
    {
      "cell_type": "code",
      "execution_count": null,
      "metadata": {
        "id": "PoPSOr9KS46d"
      },
      "outputs": [],
      "source": [
        "#14\n"
      ]
    },
    {
      "cell_type": "code",
      "execution_count": null,
      "metadata": {
        "id": "P0HyGggTS46e",
        "outputId": "ae95f14a-4cbc-41e7-fff2-d8e584c2f234"
      },
      "outputs": [
        {
          "name": "stdout",
          "output_type": "stream",
          "text": [
            "Hello, World!\n"
          ]
        }
      ],
      "source": [
        "# 15 Write a code that uses a lambda function to concatenate two strings\n",
        "\n",
        "concatenate_strings = lambda s1, s2: s1 + s2\n",
        "\n",
        "print(concatenate_strings(\"Hello, \", \"World!\"))"
      ]
    },
    {
      "cell_type": "code",
      "execution_count": null,
      "metadata": {
        "id": "V-NGPc4mS46e",
        "outputId": "59af19e5-f3ff-4696-9d55-2e51d30130b0"
      },
      "outputs": [
        {
          "name": "stdout",
          "output_type": "stream",
          "text": [
            "5\n"
          ]
        }
      ],
      "source": [
        "# 16 Write a code that uses a lambda function to find the maximum of three given numbers\n",
        "\n",
        "max_of_three = lambda a, b, c: max(a, b, c)\n",
        "\n",
        "print(max_of_three(1, 5, 3))"
      ]
    },
    {
      "cell_type": "code",
      "execution_count": null,
      "metadata": {
        "id": "SF7UPpEvS46e",
        "outputId": "49630ae6-a1c0-4127-932d-e67ad63959f5"
      },
      "outputs": [
        {
          "name": "stdout",
          "output_type": "stream",
          "text": [
            "[4, 16, 36]\n"
          ]
        }
      ],
      "source": [
        "# 17 Write a code that generates the squares of even numbers from a given list\n",
        "\n",
        "def squares_of_even_numbers(lst):\n",
        "    return [x * x for x in lst if x % 2 == 0]\n",
        "\n",
        "print(squares_of_even_numbers([1, 2, 3, 4, 5, 6]))"
      ]
    },
    {
      "cell_type": "code",
      "execution_count": null,
      "metadata": {
        "id": "6TSl2udmS46f",
        "outputId": "13535869-1268-479b-833f-df4d77a7af32"
      },
      "outputs": [
        {
          "name": "stdout",
          "output_type": "stream",
          "text": [
            "72\n"
          ]
        }
      ],
      "source": [
        "# 18 Write a code that calculates the product of positive numbers from a given list\n",
        "\n",
        "from functools import reduce\n",
        "\n",
        "def product_of_positives(lst):\n",
        "    positives = [x for x in lst if x > 0]\n",
        "    return reduce(lambda x, y: x * y, positives, 1)\n",
        "\n",
        "# Example usage\n",
        "print(product_of_positives([1, -2, 3, 4, -5, 6]))"
      ]
    },
    {
      "cell_type": "code",
      "execution_count": null,
      "metadata": {
        "id": "zlVfwYm7S46f",
        "outputId": "faa079ee-903c-46d2-f686-abe17fa3e832"
      },
      "outputs": [
        {
          "name": "stdout",
          "output_type": "stream",
          "text": [
            "[2, 2, 6, 4, 10]\n"
          ]
        }
      ],
      "source": [
        "# 19 Write a code that doubles the values of odd numbers from a given list\n",
        "\n",
        "def double_odds(lst):\n",
        "    return [x * 2 if x % 2 != 0 else x for x in lst]\n",
        "\n",
        "# Example usage\n",
        "print(double_odds([1, 2, 3, 4, 5]))"
      ]
    },
    {
      "cell_type": "code",
      "execution_count": null,
      "metadata": {
        "id": "Uf63RbNxS46f",
        "outputId": "19d109e6-58e0-4c0e-c963-a7e6ce0f2c23"
      },
      "outputs": [
        {
          "name": "stdout",
          "output_type": "stream",
          "text": [
            "36\n"
          ]
        }
      ],
      "source": [
        "# 20 Write a code that calculates the sum of cubes of numbers from a given list\n",
        "\n",
        "def sum_of_cubes(lst):\n",
        "    return sum(x ** 3 for x in lst)\n",
        "\n",
        "print(sum_of_cubes([1, 2, 3]))"
      ]
    },
    {
      "cell_type": "code",
      "execution_count": null,
      "metadata": {
        "id": "Gqx73EOlS46f",
        "outputId": "3d0bd114-2830-4f3d-c000-667937a44a0b"
      },
      "outputs": [
        {
          "name": "stdout",
          "output_type": "stream",
          "text": [
            "[2, 3, 5, 7]\n"
          ]
        }
      ],
      "source": [
        "# 21 Write a code that filters out prime numbers from a given list\n",
        "\n",
        "def is_prime(num):\n",
        "    if num < 2:\n",
        "        return False\n",
        "    for i in range(2, int(num ** 0.5) + 1):\n",
        "        if num % i == 0:\n",
        "            return False\n",
        "    return True\n",
        "\n",
        "def filter_primes(lst):\n",
        "    return [x for x in lst if is_prime(x)]\n",
        "\n",
        "# Example usage\n",
        "print(filter_primes([1, 2, 3, 4, 5, 6, 7, 8, 9, 10]))"
      ]
    },
    {
      "cell_type": "code",
      "execution_count": null,
      "metadata": {
        "id": "RQfQlHKVS46g",
        "outputId": "84f06b48-e193-4407-8a8f-186add3272be"
      },
      "outputs": [
        {
          "name": "stdout",
          "output_type": "stream",
          "text": [
            "8\n"
          ]
        }
      ],
      "source": [
        "# 22 Write a code that uses a lambda function to calculate the sum of two numbers\n",
        "\n",
        "sum_two_numbers = lambda x, y: x + y\n",
        "\n",
        "print(sum_two_numbers(3, 5))"
      ]
    },
    {
      "cell_type": "code",
      "execution_count": null,
      "metadata": {
        "id": "iM9kNrL0S46g",
        "outputId": "2166957f-89b0-439d-ff12-47aea36bf33b"
      },
      "outputs": [
        {
          "name": "stdout",
          "output_type": "stream",
          "text": [
            "16\n"
          ]
        }
      ],
      "source": [
        "# 23 Write a code that uses a lambda function to calculate the square of a given number\n",
        "\n",
        "square = lambda x: x * x\n",
        "\n",
        "# Example usage\n",
        "print(square(4))"
      ]
    },
    {
      "cell_type": "code",
      "execution_count": null,
      "metadata": {
        "id": "tkJW7BJCS46g",
        "outputId": "4100e647-9b55-4d19-dbfb-56a991faba08"
      },
      "outputs": [
        {
          "name": "stdout",
          "output_type": "stream",
          "text": [
            "True\n",
            "False\n"
          ]
        }
      ],
      "source": [
        "# 24 Write a code that uses a lambda function to check whether a given number is even or odd\n",
        "\n",
        "is_even = lambda x: x % 2 == 0\n",
        "\n",
        "# Example usage\n",
        "print(is_even(4))  # Output: True\n",
        "print(is_even(3))  # Output: False"
      ]
    },
    {
      "cell_type": "code",
      "execution_count": null,
      "metadata": {
        "id": "dbXOKxEbS46g",
        "outputId": "9150975a-7978-4592-fdd1-14501826a254"
      },
      "outputs": [
        {
          "name": "stdout",
          "output_type": "stream",
          "text": [
            "Hello, World!\n"
          ]
        }
      ],
      "source": [
        "# 25 Write a code that uses a lambda function to concatenate two strings\n",
        "\n",
        "concatenate_strings = lambda s1, s2: s1 + s2\n",
        "\n",
        "# Example usage\n",
        "print(concatenate_strings(\"Hello, \", \"World!\"))"
      ]
    },
    {
      "cell_type": "code",
      "execution_count": null,
      "metadata": {
        "id": "hO0DwFiXS46g",
        "outputId": "5a280e6a-29f7-470a-e1eb-90abd4faeaa8"
      },
      "outputs": [
        {
          "name": "stdout",
          "output_type": "stream",
          "text": [
            "5\n"
          ]
        }
      ],
      "source": [
        "# 26 Write a code that uses a lambda function to find the maximum of three given numbers\n",
        "\n",
        "max_of_three = lambda a, b, c: max(a, b, c)\n",
        "\n",
        "print(max_of_three(1, 5, 3))"
      ]
    },
    {
      "cell_type": "code",
      "execution_count": null,
      "metadata": {
        "id": "neq5Lc6-S46h"
      },
      "outputs": [],
      "source": [
        "# 27 what encapsulation in oops\n",
        "\n",
        "# encapsulation is one of the fundamental princliples of oops\n",
        "# it refers to bundling of data (attributes) and methods(funcitons) that operate on the data into a single unit known as a class\n",
        "# encapsulation restricts direct access to some of an object's components, which can prevent the accidental modification of data\n",
        "\n",
        "# advantages of oops\n",
        "# improved security\n",
        "# modularity\n",
        "# ease of maaintenance\n",
        "# flexibility and resuability\n"
      ]
    },
    {
      "cell_type": "code",
      "execution_count": null,
      "metadata": {
        "id": "25OLdqZHS46h"
      },
      "outputs": [],
      "source": [
        "#28 access modifiers in python classes\n",
        "\n",
        "# public\n",
        "class MyClass:\n",
        "    def __init__(self):\n",
        "        self.public_attr = \"I am public\"\n",
        "\n",
        "    def public_method(self):\n",
        "        print(\"This is a public method\")\n",
        "\n",
        "\n",
        "# protected\n",
        "class MyClass:\n",
        "    def __init__(self):\n",
        "        self._protected_attr = \"I am protected\"\n",
        "\n",
        "    def _protected_method(self):\n",
        "        print(\"This is a protected method\")\n",
        "\n",
        "\n",
        "# private\n",
        "class MyClass:\n",
        "    def __init__(self):\n",
        "        self.__private_attr = \"I am private\"\n",
        "\n",
        "    def __private_method(self):\n",
        "        print(\"This is a private method\")\n"
      ]
    },
    {
      "cell_type": "code",
      "execution_count": null,
      "metadata": {
        "id": "gN5BmqhgS46h"
      },
      "outputs": [],
      "source": [
        "# 29 inheritance in oops\n",
        "\n",
        "# Inheritance is a fundamental concept in object-oriented programming (OOP) where a new class (child or subclass) derives properties and behavior (attributes and methods) from an existing class (parent or superclass). This allows for code reuse and the creation of a hierarchical relationship between classes.\n",
        "\n"
      ]
    },
    {
      "cell_type": "code",
      "execution_count": null,
      "metadata": {
        "id": "V8mRnOC3S46h"
      },
      "outputs": [],
      "source": [
        "# 30. Define polymorphism in OOP\n",
        "\n",
        "# Polymorphism in OOP refers to the ability of different classes to be treated as instances of the same class through a common interface. It allows methods to do different things based on the object it is acting upon, even though they share the same name. This can be achieved through method overriding or method overloading."
      ]
    },
    {
      "cell_type": "code",
      "execution_count": null,
      "metadata": {
        "id": "0XDAyEc-S46h"
      },
      "outputs": [],
      "source": [
        "# 31 explain method overriding in python\n",
        "\n",
        "# Method overriding occurs when a subclass provides a specific implementation for a method that is already defined in its superclass. The overridden method in the subclass has the same name, return type, and parameters as the method in the parent class.\n"
      ]
    },
    {
      "cell_type": "code",
      "execution_count": null,
      "metadata": {
        "id": "OZuUT8M6S46i"
      },
      "outputs": [],
      "source": [
        "# 32. Define a parent class Animal with a method make_sound that prints \"Generic animal sound\". Create a child class Dog inheriting from Animal with a method make_sound that prints \"Woof!\"\n",
        "\n",
        "\n",
        "class Animal:\n",
        "    def make_sound(self):\n",
        "        print(\"Generic animal sound\")\n",
        "\n",
        "class Dog(Animal):\n",
        "    def make_sound(self):\n",
        "        print(\"Woof!\")"
      ]
    },
    {
      "cell_type": "code",
      "execution_count": null,
      "metadata": {
        "id": "6sxeZmzHS46i"
      },
      "outputs": [],
      "source": [
        "# 33 Define a method move in the Animal class that prints \"Animal moves\". Override the move method in the Dog class to print \"Dog runs.\"\n",
        "\n",
        "class Animal:\n",
        "    def move(self):\n",
        "        print(\"Animal moves\")\n",
        "\n",
        "class Dog(Animal):\n",
        "    def move(self):\n",
        "        print(\"Dog runs\")"
      ]
    },
    {
      "cell_type": "code",
      "execution_count": null,
      "metadata": {
        "id": "RrYr5vvyS46i"
      },
      "outputs": [],
      "source": [
        "# 34 Create a class Mammal with a method reproduce that prints \"Giving birth to live young.\" Create a class DogMammal inheriting from both Dog and Mammal.\n",
        "\n",
        "class Animal:\n",
        "    def move(self):\n",
        "        print(\"Animal moves\")\n",
        "\n",
        "class Dog(Animal):\n",
        "    def move(self):\n",
        "        print(\"Dog runs\")\n",
        "\n",
        "\n",
        "class Mammal:\n",
        "    def reproduce(self):\n",
        "        print(\"Giving birth to live young\")\n",
        "\n",
        "class DogMammal(Dog, Mammal):\n",
        "    pass"
      ]
    },
    {
      "cell_type": "code",
      "execution_count": null,
      "metadata": {
        "id": "en-hFerIS46i",
        "outputId": "411b9db7-ed69-4fb2-a8d1-14f08dd16c67"
      },
      "outputs": [
        {
          "name": "stdout",
          "output_type": "stream",
          "text": [
            "Bark!\n"
          ]
        }
      ],
      "source": [
        "# 35. Create a class GermanShepherd inheriting from Dog and override the make_sound method to print \"Bark!\"\n",
        "\n",
        "class GermanShepherd(Dog):\n",
        "    def make_sound(self):\n",
        "        print(\"Bark!\")\n",
        "\n",
        "gs = GermanShepherd()\n",
        "gs.make_sound()"
      ]
    },
    {
      "cell_type": "code",
      "execution_count": null,
      "metadata": {
        "id": "DqlObuywS46i",
        "outputId": "b575cf62-e1c8-4ba4-d413-f4b438c4533f"
      },
      "outputs": [
        {
          "name": "stdout",
          "output_type": "stream",
          "text": [
            "Canine\n",
            "Labrador\n",
            "Woof!\n"
          ]
        }
      ],
      "source": [
        "# 36 Define constructors in both the Animal and Dog classes with different initialization parameters.\n",
        "\n",
        "\n",
        "class Animal:\n",
        "    def __init__(self, species):\n",
        "        self.species = species\n",
        "\n",
        "    def make_sound(self):\n",
        "        print(\"Generic animal sound\")\n",
        "\n",
        "class Dog(Animal):\n",
        "    def __init__(self, species, breed):\n",
        "        super().__init__(species)\n",
        "        self.breed = breed\n",
        "\n",
        "    def make_sound(self):\n",
        "        print(\"Woof!\")\n",
        "\n",
        "\n",
        "\n",
        "dog = Dog(\"Canine\", \"Labrador\")\n",
        "print(dog.species)\n",
        "print(dog.breed)\n",
        "dog.make_sound()\n"
      ]
    },
    {
      "cell_type": "code",
      "execution_count": null,
      "metadata": {
        "id": "lQf8EGrTS46j"
      },
      "outputs": [],
      "source": [
        "# 37 What is abstraction in Python? How is it implemented?\n",
        "\n",
        "\n",
        "# Abstraction in Python is the concept of hiding the complex implementation details of a class and exposing only the necessary and relevant parts to the user. It is implemented using abstract classes and interfaces. An abstract class in Python is defined using the abc module, and it can have one or more abstract methods that must be implemented by subclasses.\n",
        "\n",
        "\n",
        "from abc import ABC, abstractmethod\n",
        "\n",
        "class Animal(ABC):\n",
        "    @abstractmethod\n",
        "    def make_sound(self):\n",
        "        pass\n",
        "\n",
        "class Dog(Animal):\n",
        "    def make_sound(self):\n",
        "        print(\"Woof!\")\n"
      ]
    },
    {
      "cell_type": "code",
      "execution_count": null,
      "metadata": {
        "id": "ntCzDNR1S46j"
      },
      "outputs": [],
      "source": [
        "# 38 importance of extraction\n",
        "\n",
        "# Simplifies complexity\n",
        "# Enhances Code Reusability\n",
        "# Improves Code Maintenance\n",
        "# Ecourages design flexibility\n"
      ]
    },
    {
      "cell_type": "code",
      "execution_count": null,
      "metadata": {
        "id": "wZIIW6DuS46j"
      },
      "outputs": [],
      "source": [
        "# 39. How are abstract methods different from regular methods in Python?\n",
        "\n",
        "# Abstract methods differ from regular methods in that they:\n",
        "\n",
        "# Have No Implementation: Abstract methods are declared without any implementation, forcing subclasses to provide their own implementation.\n",
        "# Defined in Abstract Classes: Abstract methods are defined in abstract classes, which cannot be instantiated directly.\n",
        "# Enforce a Contract: They enforce a contract that any subclass must implement these methods."
      ]
    },
    {
      "cell_type": "code",
      "execution_count": null,
      "metadata": {
        "id": "CJTmNoh0S46z"
      },
      "outputs": [],
      "source": [
        "# 40. How can you achieve abstraction using interfaces in Python?\n",
        "\n",
        "# In Python, interfaces can be achieved using abstract base classes (ABCs) from the abc module. An ABC can define abstract methods that must be implemented by any concrete class that inherits from it.\n",
        "\n",
        "from abc import ABC, abstractmethod\n",
        "\n",
        "class AnimalInterface(ABC):\n",
        "    @abstractmethod\n",
        "    def make_sound(self):\n",
        "        pass\n",
        "\n",
        "class Dog(AnimalInterface):\n",
        "    def make_sound(self):\n",
        "        print(\"Woof!\")"
      ]
    },
    {
      "cell_type": "code",
      "execution_count": null,
      "metadata": {
        "id": "GmBCefpOS46z",
        "outputId": "27ebe3ea-3fdd-4eca-dabd-5ce2213f8f56"
      },
      "outputs": [
        {
          "name": "stdout",
          "output_type": "stream",
          "text": [
            "Area: 78.5, Perimeter: 31.400000000000002\n",
            "Area: 24, Perimeter: 20\n"
          ]
        }
      ],
      "source": [
        "# 41. Can you provide an example of how abstraction can be utilized to create a common interface for a group of related classes in Python?\n",
        "\n",
        "from abc import ABC, abstractmethod\n",
        "\n",
        "class Shape(ABC):\n",
        "    @abstractmethod\n",
        "    def area(self):\n",
        "        pass\n",
        "\n",
        "    @abstractmethod\n",
        "    def perimeter(self):\n",
        "        pass\n",
        "\n",
        "class Circle(Shape):\n",
        "    def __init__(self, radius):\n",
        "        self.radius = radius\n",
        "\n",
        "    def area(self):\n",
        "        return 3.14 * self.radius ** 2\n",
        "\n",
        "    def perimeter(self):\n",
        "        return 2 * 3.14 * self.radius\n",
        "\n",
        "class Rectangle(Shape):\n",
        "    def __init__(self, width, height):\n",
        "        self.width = width\n",
        "        self.height = height\n",
        "\n",
        "    def area(self):\n",
        "        return self.width * self.height\n",
        "\n",
        "    def perimeter(self):\n",
        "        return 2 * (self.width + self.height)\n",
        "\n",
        "shapes = [Circle(5), Rectangle(4, 6)]\n",
        "for shape in shapes:\n",
        "    print(f\"Area: {shape.area()}, Perimeter: {shape.perimeter()}\")"
      ]
    },
    {
      "cell_type": "code",
      "execution_count": null,
      "metadata": {
        "id": "7J_VEYlwS460",
        "outputId": "247020a4-a545-4207-e228-913844f83b31"
      },
      "outputs": [
        {
          "name": "stdout",
          "output_type": "stream",
          "text": [
            "Woof!\n",
            "Meow!\n"
          ]
        }
      ],
      "source": [
        "# 42. How does Python achieve polymorphism through method overriding?\n",
        "\n",
        "\n",
        "#Python achieves polymorphism through method overriding by allowing subclasses to provide specific implementations of methods that are defined in their superclasses. This means that the same method name can exhibit different behaviors depending on the object that invokes it.\n",
        "class Animal:\n",
        "    def make_sound(self):\n",
        "        print(\"Generic animal sound\")\n",
        "\n",
        "class Dog(Animal):\n",
        "    def make_sound(self):\n",
        "        print(\"Woof!\")\n",
        "\n",
        "class Cat(Animal):\n",
        "    def make_sound(self):\n",
        "        print(\"Meow!\")\n",
        "\n",
        "# Example usage\n",
        "animals = [Dog(), Cat()]\n",
        "for animal in animals:\n",
        "    animal.make_sound()  # Output: Woof! Meow!\n"
      ]
    },
    {
      "cell_type": "code",
      "execution_count": null,
      "metadata": {
        "id": "8tDm79wXS460",
        "outputId": "c272db9c-c071-4635-a662-f39ff9f46891"
      },
      "outputs": [
        {
          "name": "stdout",
          "output_type": "stream",
          "text": [
            "Hello from BaseClass\n",
            "Hello from SubClass\n"
          ]
        }
      ],
      "source": [
        "# 43. Define a base class with a method and a subclass that overrides the method\n",
        "\n",
        "\n",
        "class BaseClass:\n",
        "    def greet(self):\n",
        "        print(\"Hello from BaseClass\")\n",
        "\n",
        "class SubClass(BaseClass):\n",
        "    def greet(self):\n",
        "        print(\"Hello from SubClass\")\n",
        "\n",
        "# Example usage\n",
        "base = BaseClass()\n",
        "sub = SubClass()\n",
        "\n",
        "base.greet()\n",
        "sub.greet()"
      ]
    },
    {
      "cell_type": "code",
      "execution_count": null,
      "metadata": {
        "id": "vGGtUJzUS460",
        "outputId": "fe62c745-9cdf-4610-8567-5c8cbb290fbd"
      },
      "outputs": [
        {
          "ename": "SyntaxError",
          "evalue": "invalid syntax (1110770019.py, line 3)",
          "output_type": "error",
          "traceback": [
            "\u001b[1;36m  Cell \u001b[1;32mIn[46], line 3\u001b[1;36m\u001b[0m\n\u001b[1;33m    Copy code\u001b[0m\n\u001b[1;37m         ^\u001b[0m\n\u001b[1;31mSyntaxError\u001b[0m\u001b[1;31m:\u001b[0m invalid syntax\n"
          ]
        }
      ],
      "source": [
        "# 44. Define a base class and multiple subclasses with overridden methods\n",
        "python\n",
        "Copy code\n",
        "class Animal:\n",
        "    def make_sound(self):\n",
        "        print(\"Some generic animal sound\")\n",
        "\n",
        "class Dog(Animal):\n",
        "    def make_sound(self):\n",
        "        print(\"Woof!\")\n",
        "\n",
        "class Cat(Animal):\n",
        "    def make_sound(self):\n",
        "        print(\"Meow!\")\n",
        "\n",
        "class Cow(Animal):\n",
        "    def make_sound(self):\n",
        "        print(\"Moo!\")\n",
        "\n",
        "# Example usage\n",
        "animals = [Dog(), Cat(), Cow()]\n",
        "for animal in animals:\n",
        "    animal.make_sound()"
      ]
    },
    {
      "cell_type": "code",
      "execution_count": null,
      "metadata": {
        "id": "qj8nbLI5S461",
        "outputId": "fe0eaaa9-7075-44b0-f625-d2453000061e"
      },
      "outputs": [
        {
          "name": "stdout",
          "output_type": "stream",
          "text": [
            "Woof!\n",
            "Meow!\n",
            "Moo!\n"
          ]
        }
      ],
      "source": [
        "# 44. Define a base class and multiple subclasses with overridden methods\n",
        "\n",
        "class Animal:\n",
        "    def make_sound(self):\n",
        "        print(\"Some generic animal sound\")\n",
        "\n",
        "class Dog(Animal):\n",
        "    def make_sound(self):\n",
        "        print(\"Woof!\")\n",
        "\n",
        "class Cat(Animal):\n",
        "    def make_sound(self):\n",
        "        print(\"Meow!\")\n",
        "\n",
        "class Cow(Animal):\n",
        "    def make_sound(self):\n",
        "        print(\"Moo!\")\n",
        "\n",
        "animals = [Dog(), Cat(), Cow()]\n",
        "for animal in animals:\n",
        "    animal.make_sound()"
      ]
    },
    {
      "cell_type": "code",
      "execution_count": null,
      "metadata": {
        "id": "RT_fyCiLS461"
      },
      "outputs": [],
      "source": [
        "# 45. How does polymorphism improve code readability and reusability?\n",
        "\n",
        "# Polymorphism improves code readability and reusability by allowing different classes to be treated through a common interface. This means you can write more generic and reusable code. Instead of writing separate functions for each class, you can write one function that works with any class implementing the expected interface. This reduces code duplication and makes the code easier to understand and maintain."
      ]
    },
    {
      "cell_type": "code",
      "execution_count": null,
      "metadata": {
        "id": "hNGcLZJkS461",
        "outputId": "a633ee61-6f1f-42db-8be8-8c1603434611"
      },
      "outputs": [
        {
          "name": "stdout",
          "output_type": "stream",
          "text": [
            "Woof!\n",
            "Meow!\n"
          ]
        }
      ],
      "source": [
        "# 46. Describe how Python supports polymorphism with duck typing\n",
        "\n",
        "#Python supports polymorphism with duck typing, which is a concept where the type or the class of an object is less important than the methods it defines. If an object implements the methods expected by the code, it can be used regardless of its actual type.\n",
        "\n",
        "class Dog:\n",
        "    def make_sound(self):\n",
        "        return \"Woof!\"\n",
        "\n",
        "class Cat:\n",
        "    def make_sound(self):\n",
        "        return \"Meow!\"\n",
        "\n",
        "def animal_sound(animal):\n",
        "    print(animal.make_sound())\n",
        "\n",
        "# Example usage\n",
        "animal_sound(Dog())  # Output: Woof!\n",
        "animal_sound(Cat())  # Output: Meow!"
      ]
    },
    {
      "cell_type": "code",
      "execution_count": null,
      "metadata": {
        "id": "CdQjtGnZS462"
      },
      "outputs": [],
      "source": [
        "# 47. How do you achieve encapsulation in Python?\n",
        "\n",
        "# Encapsulation in Python is achieved by using private and protected attributes and methods. This restricts access to the internal state of an object and ensures that it can only be modified in controlled ways.\n",
        "\n",
        "# Private Attributes/Methods: These are defined with a double underscore (__), and are not accessible from outside the class.\n",
        "# Protected Attributes/Methods: These are defined with a single underscore (_), and are intended to be accessed only within the class and its subclasses."
      ]
    },
    {
      "cell_type": "code",
      "execution_count": null,
      "metadata": {
        "id": "PfJC9QTmS462",
        "outputId": "a29e0223-dae7-45a1-f139-a17f2651f7e2"
      },
      "outputs": [
        {
          "name": "stdout",
          "output_type": "stream",
          "text": [
            "I am private\n"
          ]
        }
      ],
      "source": [
        "# 48. Can encapsulation be bypassed in Python? If so, how?\n",
        "\n",
        "\n",
        "# Yes, encapsulation can be bypassed in Python due to its nature of not strictly enforcing access restrictions. Private attributes are only name-mangled (e.g., __attribute becomes _ClassName__attribute), so they can still be accessed if needed.\n",
        "\n",
        "class MyClass:\n",
        "    def __init__(self):\n",
        "        self.__private_attr = \"I am private\"\n",
        "\n",
        "obj = MyClass()\n",
        "print(obj._MyClass__private_attr)"
      ]
    },
    {
      "cell_type": "code",
      "execution_count": null,
      "metadata": {
        "id": "9bN8_si4S463",
        "outputId": "8e164989-878f-4bb3-b1b3-19af531d22cd"
      },
      "outputs": [
        {
          "name": "stdout",
          "output_type": "stream",
          "text": [
            "120\n"
          ]
        }
      ],
      "source": [
        "# 49. Implement a class BankAccount with a private balance attribute. Include methods to deposit, withdraw, and check the balance\n",
        "\n",
        "class BankAccount:\n",
        "    def __init__(self, initial_balance=0):\n",
        "        self.__balance = initial_balance\n",
        "\n",
        "    def deposit(self, amount):\n",
        "        if amount > 0:\n",
        "            self.__balance += amount\n",
        "\n",
        "    def withdraw(self, amount):\n",
        "        if 0 < amount <= self.__balance:\n",
        "            self.__balance -= amount\n",
        "        else:\n",
        "            print(\"Insufficient funds\")\n",
        "\n",
        "    def get_balance(self):\n",
        "        return self.__balance\n",
        "\n",
        "# Example usage\n",
        "account = BankAccount(100)\n",
        "account.deposit(50)\n",
        "account.withdraw(30)\n",
        "print(account.get_balance())"
      ]
    },
    {
      "cell_type": "code",
      "execution_count": null,
      "metadata": {
        "id": "boNVY0PtS463",
        "outputId": "dc325641-b48f-44aa-ca1b-e1c6365e64d3"
      },
      "outputs": [
        {
          "name": "stdout",
          "output_type": "stream",
          "text": [
            "aakif9866@gmail.com\n",
            "aakif9246@gmail.com\n"
          ]
        }
      ],
      "source": [
        "# 50. Develop a Person class with private attributes name and email, and methods to set and get the email\n",
        "\n",
        "\n",
        "class Person:\n",
        "    def __init__(self, name, email):\n",
        "        self.__name = name\n",
        "        self.__email = email\n",
        "\n",
        "    def set_email(self, email):\n",
        "        self.__email = email\n",
        "\n",
        "    def get_email(self):\n",
        "        return self.__email\n",
        "\n",
        "# Example usage\n",
        "person = Person(\"aakif\", \"aakif9866@gmail.com\")\n",
        "print(person.get_email())\n",
        "person.set_email(\"aakif9246@gmail.com\")\n",
        "print(person.get_email())"
      ]
    },
    {
      "cell_type": "code",
      "execution_count": null,
      "metadata": {
        "id": "ZdT2ZAGHS464"
      },
      "outputs": [],
      "source": [
        "# 51 why is encapsulation a pillar of oops\n",
        "\n",
        "# data handling\n",
        "# modularity\n",
        "# security\n",
        "# improved maintenance\n",
        "# clear interface\n"
      ]
    },
    {
      "cell_type": "code",
      "execution_count": null,
      "metadata": {
        "id": "Sc5giWWYS464",
        "outputId": "561c2cf9-8e85-416d-f712-42a40ff0f824"
      },
      "outputs": [
        {
          "name": "stdout",
          "output_type": "stream",
          "text": [
            "Before the function execution\n",
            "Hello!\n",
            "After the function execution\n"
          ]
        }
      ],
      "source": [
        "# 52. Create a decorator in Python that adds functionality to a simple function by printing a message before and after the function execution\n",
        "\n",
        "\n",
        "def my_decorator(func):\n",
        "    def wrapper(*args, **kwargs):\n",
        "        print(\"Before the function execution\")\n",
        "        result = func(*args, **kwargs)\n",
        "        print(\"After the function execution\")\n",
        "        return result\n",
        "    return wrapper\n",
        "\n",
        "@my_decorator\n",
        "def say_hello():\n",
        "    print(\"Hello!\")\n",
        "\n",
        "\n",
        "say_hello()"
      ]
    },
    {
      "cell_type": "code",
      "execution_count": null,
      "metadata": {
        "id": "R-W1dGUgS464",
        "outputId": "a86f282a-e6de-47f5-b6a0-05c010c0fc24"
      },
      "outputs": [
        {
          "name": "stdout",
          "output_type": "stream",
          "text": [
            "Before the function say_hello execution\n",
            "Hello!\n",
            "After the function say_hello execution\n"
          ]
        }
      ],
      "source": [
        "# 53. Modify the decorator to accept arguments and print the function name along with the message\n",
        "\n",
        "def my_decorator(func):\n",
        "    def wrapper(*args, **kwargs):\n",
        "        print(f\"Before the function {func.__name__} execution\")\n",
        "        result = func(*args, **kwargs)\n",
        "        print(f\"After the function {func.__name__} execution\")\n",
        "        return result\n",
        "    return wrapper\n",
        "\n",
        "@my_decorator\n",
        "def say_hello():\n",
        "    print(\"Hello!\")\n",
        "\n",
        "say_hello()"
      ]
    },
    {
      "cell_type": "code",
      "execution_count": null,
      "metadata": {
        "id": "yRTLG9PPS465",
        "outputId": "9f43d46c-dc2b-4aa2-b21f-c22296ee9320"
      },
      "outputs": [
        {
          "name": "stdout",
          "output_type": "stream",
          "text": [
            "Decorator One - Before the function execution\n",
            "Decorator Two - Before the function execution\n",
            "Hello!\n",
            "Decorator Two - After the function execution\n",
            "Decorator One - After the function execution\n"
          ]
        }
      ],
      "source": [
        "# 54. Create two decorators, and apply them to a single function. Ensure that they execute in the order they are applied\n",
        "\n",
        "def decorator_one(func):\n",
        "    def wrapper(*args, **kwargs):\n",
        "        print(\"Decorator One - Before the function execution\")\n",
        "        result = func(*args, **kwargs)\n",
        "        print(\"Decorator One - After the function execution\")\n",
        "        return result\n",
        "    return wrapper\n",
        "\n",
        "def decorator_two(func):\n",
        "    def wrapper(*args, **kwargs):\n",
        "        print(\"Decorator Two - Before the function execution\")\n",
        "        result = func(*args, **kwargs)\n",
        "        print(\"Decorator Two - After the function execution\")\n",
        "        return result\n",
        "    return wrapper\n",
        "\n",
        "@decorator_one\n",
        "@decorator_two\n",
        "def say_hello():\n",
        "    print(\"Hello!\")\n",
        "\n",
        "# Example usage\n",
        "say_hello()"
      ]
    },
    {
      "cell_type": "code",
      "execution_count": null,
      "metadata": {
        "id": "YrwohF2pS465",
        "outputId": "3a5ac3c1-3360-4b1d-9c02-381b9373498f"
      },
      "outputs": [
        {
          "name": "stdout",
          "output_type": "stream",
          "text": [
            "Before the function say_hello execution with arguments ('Aakif',) and {}\n",
            "Hello, Aakif!\n",
            "After the function say_hello execution\n"
          ]
        }
      ],
      "source": [
        "# 55. Modify the decorator to accept and pass function arguments to the wrapped function\n",
        "\n",
        "\n",
        "def my_decorator(func):\n",
        "    def wrapper(*args, **kwargs):\n",
        "        print(f\"Before the function {func.__name__} execution with arguments {args} and {kwargs}\")\n",
        "        result = func(*args, **kwargs)\n",
        "        print(f\"After the function {func.__name__} execution\")\n",
        "        return result\n",
        "    return wrapper\n",
        "\n",
        "@my_decorator\n",
        "def say_hello(name):\n",
        "    print(f\"Hello, {name}!\")\n",
        "\n",
        "# Example usage\n",
        "say_hello(\"Aakif\")"
      ]
    },
    {
      "cell_type": "code",
      "execution_count": null,
      "metadata": {
        "id": "D-BV99vCS465",
        "outputId": "6ee5bb91-77bd-4d9e-a203-2467b2b67acf"
      },
      "outputs": [
        {
          "name": "stdout",
          "output_type": "stream",
          "text": [
            "say_hello\n",
            "Before the function say_hello execution\n",
            "Hello, aakif!\n",
            "After the function say_hello execution\n"
          ]
        }
      ],
      "source": [
        "# 56. Create a decorator that preserves the metadata of the original function\n",
        "\n",
        "\n",
        "from functools import wraps\n",
        "\n",
        "def my_decorator(func):\n",
        "    @wraps(func)\n",
        "    def wrapper(*args, **kwargs):\n",
        "        print(f\"Before the function {func.__name__} execution\")\n",
        "        result = func(*args, **kwargs)\n",
        "        print(f\"After the function {func.__name__} execution\")\n",
        "        return result\n",
        "    return wrapper\n",
        "\n",
        "@my_decorator\n",
        "def say_hello(name):\n",
        "    print(f\"Hello, {name}!\")\n",
        "\n",
        "# Example usage\n",
        "print(say_hello.__name__)\n",
        "say_hello(\"aakif\")"
      ]
    },
    {
      "cell_type": "code",
      "execution_count": null,
      "metadata": {
        "id": "LWv1fQyqS466",
        "outputId": "ee05be9b-c6a9-468f-808c-9ee58cf20df0"
      },
      "outputs": [
        {
          "name": "stdout",
          "output_type": "stream",
          "text": [
            "8\n"
          ]
        }
      ],
      "source": [
        "# 57. Create a Python class Calculator with a static method add that takes in two numbers and returns their sum\n",
        "\n",
        "\n",
        "class Calculator:\n",
        "    @staticmethod\n",
        "    def add(a, b):\n",
        "        return a + b\n",
        "\n",
        "# Example usage\n",
        "print(Calculator.add(3, 5))"
      ]
    },
    {
      "cell_type": "code",
      "execution_count": null,
      "metadata": {
        "id": "APXaM3rlS466",
        "outputId": "bcbb6d46-5b33-483a-c2f3-7cbdd91c3f1b"
      },
      "outputs": [
        {
          "name": "stdout",
          "output_type": "stream",
          "text": [
            "2\n"
          ]
        }
      ],
      "source": [
        "# 58. Create a Python class Employee with a class method that returns the total number of employees created\n",
        "\n",
        "class Employee:\n",
        "    count = 0\n",
        "\n",
        "    def __init__(self, name):\n",
        "        self.name = name\n",
        "        Employee.count += 1\n",
        "\n",
        "    @classmethod\n",
        "    def get_total_employees(cls):\n",
        "        return cls.count\n",
        "\n",
        "# Example usage\n",
        "e1 = Employee(\"Alice\")\n",
        "e2 = Employee(\"Bob\")\n",
        "print(Employee.get_total_employees())  # Output: 2"
      ]
    },
    {
      "cell_type": "code",
      "execution_count": null,
      "metadata": {
        "id": "AL8EZW0VS466",
        "outputId": "a99dc3cd-3b38-4199-d290-724ff7dcdb55"
      },
      "outputs": [
        {
          "name": "stdout",
          "output_type": "stream",
          "text": [
            "olleh\n"
          ]
        }
      ],
      "source": [
        "# 59. Create a Python class StringFormatter with a static method reverse_string that takes a string as input and returns its reverse\n",
        "\n",
        "class StringFormatter:\n",
        "    @staticmethod\n",
        "    def reverse_string(s):\n",
        "        return s[::-1]\n",
        "\n",
        "# Example usage\n",
        "print(StringFormatter.reverse_string(\"hello\"))"
      ]
    },
    {
      "cell_type": "code",
      "execution_count": null,
      "metadata": {
        "id": "ApY1Sfc_S466",
        "outputId": "d43e924c-c768-44c3-94fc-39175c75eea5"
      },
      "outputs": [
        {
          "name": "stdout",
          "output_type": "stream",
          "text": [
            "78.5\n"
          ]
        }
      ],
      "source": [
        "# 60. Create a Python class Circle with a class method that calculates the area of a circle given its radius\n",
        "\\\n",
        "class Circle:\n",
        "    @classmethod\n",
        "    def area(cls, radius):\n",
        "        return 3.14 * radius ** 2\n",
        "\n",
        "# Example usage\n",
        "print(Circle.area(5))"
      ]
    },
    {
      "cell_type": "code",
      "execution_count": null,
      "metadata": {
        "id": "gmD9pRchS466",
        "outputId": "84daf429-9aaa-472a-cf2e-68f9d72f91e7"
      },
      "outputs": [
        {
          "name": "stdout",
          "output_type": "stream",
          "text": [
            "77.0\n"
          ]
        }
      ],
      "source": [
        "# 61. Create a Python class TemperatureConverter with a static method that converts Celsius to Fahrenheit\n",
        "\n",
        "\n",
        "class TemperatureConverter:\n",
        "    @staticmethod\n",
        "    def celsius_to_fahrenheit(celsius):\n",
        "        return celsius * 9/5 + 32\n",
        "\n",
        "print(TemperatureConverter.celsius_to_fahrenheit(25))"
      ]
    },
    {
      "cell_type": "code",
      "execution_count": null,
      "metadata": {
        "id": "KBIxFj06S467",
        "outputId": "f346a7e2-e534-4cfd-e475-1cd1eb8b1c51"
      },
      "outputs": [
        {
          "name": "stdout",
          "output_type": "stream",
          "text": [
            "Person(name=Alice, age=30)\n"
          ]
        }
      ],
      "source": [
        "# 62. What is the purpose of the __str__() method in Python classes? Provide an example\n",
        "\n",
        "# The __str__() method in Python is used to define the string representation of an object. It is called by the str() function and the print statement.\n",
        "\n",
        "\n",
        "class Person:\n",
        "    def __init__(self, name, age):\n",
        "        self.name = name\n",
        "        self.age = age\n",
        "\n",
        "    def __str__(self):\n",
        "        return f\"Person(name={self.name}, age={self.age})\"\n",
        "\n",
        "# Example usage\n",
        "p = Person(\"Alice\", 30)\n",
        "print(p)"
      ]
    },
    {
      "cell_type": "code",
      "execution_count": null,
      "metadata": {
        "id": "asb4aMjYS467",
        "outputId": "414af83a-cc88-4134-8dee-4972b78c2647"
      },
      "outputs": [
        {
          "name": "stdout",
          "output_type": "stream",
          "text": [
            "4\n"
          ]
        }
      ],
      "source": [
        "# 63. How does the __len__() method work in Python? Provide an example\n",
        "\n",
        "# The __len__() method in Python is used to define the behavior of the len() function for an object.\n",
        "\n",
        "class MyList:\n",
        "    def __init__(self, items):\n",
        "        self.items = items\n",
        "\n",
        "    def __len__(self):\n",
        "        return len(self.items)\n",
        "\n",
        "\n",
        "my_list = MyList([1, 2, 3, 4])\n",
        "print(len(my_list))"
      ]
    },
    {
      "cell_type": "code",
      "execution_count": null,
      "metadata": {
        "id": "9V7yHIjvS467",
        "outputId": "9ac5832c-173a-46a4-cb7e-80399e9fa9e1"
      },
      "outputs": [
        {
          "name": "stdout",
          "output_type": "stream",
          "text": [
            "Vector(4, 6)\n"
          ]
        }
      ],
      "source": [
        "# 64. Explain the usage of the __add__() method in Python classes. Provide an example\n",
        "\n",
        "# The __add__() method in Python is used to define the behavior of the addition operator + for an object.\n",
        "\n",
        "\n",
        "class Vector:\n",
        "    def __init__(self, x, y):\n",
        "        self.x = x\n",
        "        self.y = y\n",
        "\n",
        "    def __add__(self, other):\n",
        "        return Vector(self.x + other.x, self.y + other.y)\n",
        "\n",
        "    def __str__(self):\n",
        "        return f\"Vector({self.x}, {self.y})\"\n",
        "\n",
        "\n",
        "v1 = Vector(1, 2)\n",
        "v2 = Vector(3, 4)\n",
        "v3 = v1 + v2\n",
        "print(v3)"
      ]
    },
    {
      "cell_type": "code",
      "execution_count": null,
      "metadata": {
        "id": "2_bCN-8mS467",
        "outputId": "0fab747e-9969-4a1c-d183-d06e78e4fcf9"
      },
      "outputs": [
        {
          "name": "stdout",
          "output_type": "stream",
          "text": [
            "3\n"
          ]
        }
      ],
      "source": [
        "# 65. What is the purpose of the __getitem__() method in Python? Provide an example\n",
        "\n",
        "# The __getitem__() method in Python is used to define the behavior of the indexing operator [] for an object.\n",
        "\n",
        "\n",
        "class MyList:\n",
        "    def __init__(self, items):\n",
        "        self.items = items\n",
        "\n",
        "    def __getitem__(self, index):\n",
        "        return self.items[index]\n",
        "\n",
        "# Example usage\n",
        "my_list = MyList([1, 2, 3, 4])\n",
        "print(my_list[2])"
      ]
    },
    {
      "cell_type": "code",
      "execution_count": null,
      "metadata": {
        "id": "ei2V_2KJS467",
        "outputId": "8ca7171d-b404-43fb-9947-2bf0d712bee6"
      },
      "outputs": [
        {
          "name": "stdout",
          "output_type": "stream",
          "text": [
            "1\n",
            "2\n",
            "3\n",
            "4\n"
          ]
        }
      ],
      "source": [
        "# 66. Explain the usage of the __iter__() and __next__() methods in Python. Provide an example using iterators\n",
        "\n",
        "\n",
        "# The __iter__() method returns the iterator object itself and is required to allow the object to be used in a loop. The __next__() method returns the next item from the iterator and raises a StopIteration exception when there are no more items.\n",
        "\n",
        "class MyIterator:\n",
        "    def __init__(self, data):\n",
        "        self.data = data\n",
        "        self.index = 0\n",
        "\n",
        "    def __iter__(self):\n",
        "        return self\n",
        "\n",
        "    def __next__(self):\n",
        "        if self.index < len(self.data):\n",
        "            result = self.data[self.index]\n",
        "            self.index += 1\n",
        "            return result\n",
        "        else:\n",
        "            raise StopIteration\n",
        "\n",
        "my_iter = MyIterator([1, 2, 3, 4])\n",
        "for item in my_iter:\n",
        "    print(item)"
      ]
    },
    {
      "cell_type": "code",
      "execution_count": null,
      "metadata": {
        "id": "_-3pfg6jS467",
        "outputId": "47be0d00-b317-48ff-e67f-0242b895fb55"
      },
      "outputs": [
        {
          "name": "stdout",
          "output_type": "stream",
          "text": [
            "aakif\n"
          ]
        }
      ],
      "source": [
        "# 67. What is the purpose of a getter method in Python? Provide an example demonstrating the use of a getter method using property decorators\n",
        "\n",
        "# A getter method is used to access (get) the value of a private attribute in a class. The @property decorator is used to define a getter method.\n",
        "\n",
        "class Person:\n",
        "    def __init__(self, name):\n",
        "        self._name = name\n",
        "\n",
        "    @property\n",
        "    def name(self):\n",
        "        return self._name\n",
        "\n",
        "p = Person(\"aakif\")\n",
        "print(p.name)"
      ]
    },
    {
      "cell_type": "code",
      "execution_count": null,
      "metadata": {
        "id": "BPAnmXkNS468",
        "outputId": "cb1ab3db-85c2-437c-8ad6-80ac4629b7cb"
      },
      "outputs": [
        {
          "name": "stdout",
          "output_type": "stream",
          "text": [
            "vidhu\n"
          ]
        }
      ],
      "source": [
        "# 68. Explain the role of setter methods in Python. Demonstrate how to use a setter method to modify a class attribute using property decorators\n",
        "\n",
        "\n",
        "# A setter method is used to set (modify) the value of a private attribute in a class. The @<property>.setter decorator is used to define a setter method.\n",
        "\n",
        "class Person:\n",
        "    def __init__(self, name):\n",
        "        self._name = name\n",
        "\n",
        "    @property\n",
        "    def name(self):\n",
        "        return self._name\n",
        "\n",
        "    @name.setter\n",
        "    def name(self, value):\n",
        "        self._name = value\n",
        "\n",
        "p = Person(\"aakif\")\n",
        "p.name = \"vidhu\"\n",
        "print(p.name)"
      ]
    },
    {
      "cell_type": "code",
      "execution_count": null,
      "metadata": {
        "id": "2xk4Zj8WS468",
        "outputId": "9468b84e-7253-4593-a090-ba9af758d2bb"
      },
      "outputs": [
        {
          "name": "stdout",
          "output_type": "stream",
          "text": [
            "aakif\n",
            "misky\n"
          ]
        }
      ],
      "source": [
        "# 69. What is the purpose of the @property decorator in Python? Provide an example illustrating its usage\n",
        "\n",
        "# The @property decorator is used to create a property in a class. It allows you to define methods that can be accessed like attributes, thus providing a way to use getter, setter, and deleter methods in a concise and readable way.\n",
        "\n",
        "\n",
        "class Person:\n",
        "    def __init__(self, name):\n",
        "        self._name = name\n",
        "\n",
        "    @property\n",
        "    def name(self):\n",
        "        return self._name\n",
        "\n",
        "    @name.setter\n",
        "    def name(self, value):\n",
        "        self._name = value\n",
        "\n",
        "    @name.deleter\n",
        "    def name(self):\n",
        "        del self._name\n",
        "\n",
        "\n",
        "p = Person(\"aakif\")\n",
        "print(p.name)\n",
        "p.name = \"misky\"\n",
        "print(p.name)\n",
        "del p.name"
      ]
    },
    {
      "cell_type": "code",
      "execution_count": null,
      "metadata": {
        "id": "KCZbE8onS468",
        "outputId": "303f2ed3-2447-4630-86e7-d72dedc58af8"
      },
      "outputs": [
        {
          "name": "stdout",
          "output_type": "stream",
          "text": [
            "Alice\n",
            "Deleting name: Alice\n"
          ]
        }
      ],
      "source": [
        "# 70. Explain the use of the @deleter decorator in Python property decorators. Provide a code example demonstrating its application\n",
        "\n",
        "\n",
        "# The @deleter decorator is used to define a method that will be called when the del statement is used on a property.\n",
        "\n",
        "class Person:\n",
        "    def __init__(self, name):\n",
        "        self._name = name\n",
        "\n",
        "    @property\n",
        "    def name(self):\n",
        "        return self._name\n",
        "\n",
        "    @name.setter\n",
        "    def name(self, value):\n",
        "        self._name = value\n",
        "\n",
        "    @name.deleter\n",
        "    def name(self):\n",
        "        print(f\"Deleting name: {self._name}\")\n",
        "        del self._name\n",
        "\n",
        "p = Person(\"Alice\")\n",
        "print(p.name)\n",
        "del p.name"
      ]
    },
    {
      "cell_type": "code",
      "execution_count": null,
      "metadata": {
        "id": "EQ8MWbQjS468",
        "outputId": "896238d0-2ae5-40e6-b2d9-850af05a0c3a"
      },
      "outputs": [
        {
          "name": "stdout",
          "output_type": "stream",
          "text": [
            "aakif\n",
            "pallav\n",
            "30\n",
            "25\n"
          ]
        }
      ],
      "source": [
        "# 71. How does encapsulation relate to property decorators in Python? Provide an example showcasing encapsulation using property decorators\n",
        "\n",
        "\n",
        "# Encapsulation is a principle of object-oriented programming that restricts direct access to an object's attributes, allowing controlled access through methods. Property decorators in Python help achieve encapsulation by defining getter, setter, and deleter methods for private attributes.\n",
        "\n",
        "\n",
        "class Person:\n",
        "    def __init__(self, name, age):\n",
        "        self._name = name\n",
        "        self._age = age\n",
        "\n",
        "    @property\n",
        "    def name(self):\n",
        "        return self._name\n",
        "\n",
        "    @name.setter\n",
        "    def name(self, value):\n",
        "        self._name = value\n",
        "\n",
        "    @property\n",
        "    def age(self):\n",
        "        return self._age\n",
        "\n",
        "    @age.setter\n",
        "    def age(self, value):\n",
        "        if value < 0:\n",
        "            raise ValueError(\"Age cannot be negative\")\n",
        "        self._age = value\n",
        "\n",
        "# Example usage\n",
        "p = Person(\"aakif\", 30)\n",
        "print(p.name)\n",
        "p.name = \"pallav\"\n",
        "print(p.name)\n",
        "print(p.age)\n",
        "p.age = 25\n",
        "print(p.age)"
      ]
    }
  ],
  "metadata": {
    "kernelspec": {
      "display_name": "Python 3",
      "language": "python",
      "name": "python3"
    },
    "language_info": {
      "codemirror_mode": {
        "name": "ipython",
        "version": 3
      },
      "file_extension": ".py",
      "mimetype": "text/x-python",
      "name": "python",
      "nbconvert_exporter": "python",
      "pygments_lexer": "ipython3",
      "version": "3.10.7"
    },
    "colab": {
      "provenance": [],
      "include_colab_link": true
    }
  },
  "nbformat": 4,
  "nbformat_minor": 0
}