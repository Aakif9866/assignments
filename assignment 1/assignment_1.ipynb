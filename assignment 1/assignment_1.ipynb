{
  "nbformat": 4,
  "nbformat_minor": 0,
  "metadata": {
    "colab": {
      "provenance": []
    },
    "kernelspec": {
      "name": "python3",
      "display_name": "Python 3"
    },
    "language_info": {
      "name": "python"
    }
  },
  "cells": [
    {
      "cell_type": "code",
      "execution_count": null,
      "metadata": {
        "colab": {
          "base_uri": "https://localhost:8080/"
        },
        "id": "aj1EvDleXic7",
        "outputId": "8d45eb90-f2a5-4ad6-bac9-395705d5cfe8"
      },
      "outputs": [
        {
          "output_type": "stream",
          "name": "stdout",
          "text": [
            "sllikswp\n"
          ]
        }
      ],
      "source": [
        "\n",
        "\n",
        "# 1 reverse string\n",
        "original_string = \"pwskills\"\n",
        "reversed_string = original_string[::-1]\n",
        "print(reversed_string)  # Output: \"olleh\""
      ]
    },
    {
      "cell_type": "code",
      "source": [
        "\n",
        "#2 count the no of vowels in  a string\n",
        "\n",
        "string = \"hello world\"\n",
        "vowels = \"aeiou\"\n",
        "count = 0\n",
        "for char in string:\n",
        "        if char in vowels:\n",
        "            count += 1\n",
        "print(count)\n"
      ],
      "metadata": {
        "colab": {
          "base_uri": "https://localhost:8080/"
        },
        "id": "815CEpbPc4aT",
        "outputId": "4bbb1e40-c7f7-4dc8-a4f9-df59d6be10b6"
      },
      "execution_count": null,
      "outputs": [
        {
          "output_type": "stream",
          "name": "stdout",
          "text": [
            "3\n"
          ]
        }
      ]
    },
    {
      "cell_type": "code",
      "source": [
        "# 3 is string palindrome\n",
        "\n",
        "string = \"racecar\"\n",
        "result = string == string[::-1]\n",
        "print(result)\n"
      ],
      "metadata": {
        "colab": {
          "base_uri": "https://localhost:8080/"
        },
        "id": "55TNmzMIeMp8",
        "outputId": "c54f9f24-40ae-4578-92dc-4f8913583e01"
      },
      "execution_count": null,
      "outputs": [
        {
          "output_type": "stream",
          "name": "stdout",
          "text": [
            "True\n"
          ]
        }
      ]
    },
    {
      "cell_type": "code",
      "source": [
        "#4 are the 2 strings anagram of each other '\n",
        "\n",
        "string1 = \"listen\"\n",
        "string2 = \"silent\"\n",
        "result = sorted(string1) == sorted(string2)\n",
        "print(result)"
      ],
      "metadata": {
        "colab": {
          "base_uri": "https://localhost:8080/"
        },
        "id": "iRozfQ4JeXcT",
        "outputId": "b8111be2-5164-4b11-f96f-eef8b1c79dda"
      },
      "execution_count": null,
      "outputs": [
        {
          "output_type": "stream",
          "name": "stdout",
          "text": [
            "True\n"
          ]
        }
      ]
    },
    {
      "cell_type": "code",
      "source": [
        "#5 occurences of substring in a given stirng\n",
        "main_string = \"hello world hello hello\"\n",
        "sub_string = \"hello\"\n",
        "all_occurrences = [i for i in range(len(main_string)) if main_string.startswith(sub_string, i)]\n",
        "print(all_occurrences)\n"
      ],
      "metadata": {
        "id": "11vILqI9enZp",
        "colab": {
          "base_uri": "https://localhost:8080/"
        },
        "outputId": "8e6ad783-6301-480b-8baa-8cfd18453562"
      },
      "execution_count": null,
      "outputs": [
        {
          "output_type": "stream",
          "name": "stdout",
          "text": [
            "[0, 12, 18]\n"
          ]
        }
      ]
    },
    {
      "cell_type": "code",
      "source": [
        "#6 string compression\n",
        "\n",
        "string = \"aabcccccaaa\"\n",
        "compressed_string = \"\"\n",
        "count = 1\n",
        "\n",
        "# Iterate through the string, starting from the second character\n",
        "for i in range(1, len(string)):\n",
        "    # If the current character is the same as the previous one, increment the count\n",
        "    if string[i] == string[i - 1]:\n",
        "        count += 1\n",
        "    else:\n",
        "        # If the current character is different, append the previous character and its count to the compressed string\n",
        "        compressed_string += string[i - 1] + str(count)\n",
        "        count = 1  # Reset the count for the new character\n",
        "\n",
        "# Append the last character and its count to the compressed string\n",
        "compressed_string += string[-1] + str(count)\n",
        "\n",
        "print(compressed_string)"
      ],
      "metadata": {
        "colab": {
          "base_uri": "https://localhost:8080/"
        },
        "id": "EPDApgHXhwJI",
        "outputId": "ffcd4533-959b-4376-ee3f-8d01cc228250"
      },
      "execution_count": null,
      "outputs": [
        {
          "output_type": "stream",
          "name": "stdout",
          "text": [
            "a2b1c5a3\n"
          ]
        }
      ]
    },
    {
      "cell_type": "code",
      "source": [
        "#7 determine if a string has all the unique characters\n",
        "\n",
        "string = \"abcdefg\"\n",
        "has_unique_chars = len(set(string)) == len(string)\n",
        "print(has_unique_chars)"
      ],
      "metadata": {
        "colab": {
          "base_uri": "https://localhost:8080/"
        },
        "id": "pO2PJ-4Qh76E",
        "outputId": "a4ff1421-62fa-47b9-835b-975c63f5ba7e"
      },
      "execution_count": null,
      "outputs": [
        {
          "output_type": "stream",
          "name": "stdout",
          "text": [
            "True\n"
          ]
        }
      ]
    },
    {
      "cell_type": "code",
      "source": [
        "#8 convert a string from upper to lower case\n",
        "string = \"Hello World\"\n",
        "uppercase_string = string.upper()\n",
        "lowercase_string = string.lower()\n",
        "print(uppercase_string)\n",
        "print(lowercase_string)\n"
      ],
      "metadata": {
        "colab": {
          "base_uri": "https://localhost:8080/"
        },
        "id": "eKlFoJYRiEEv",
        "outputId": "4c96ad3a-3095-42f4-b1f1-cb6ef56c5fbf"
      },
      "execution_count": null,
      "outputs": [
        {
          "output_type": "stream",
          "name": "stdout",
          "text": [
            "HELLO WORLD\n",
            "hello world\n"
          ]
        }
      ]
    },
    {
      "cell_type": "code",
      "source": [
        "# 9 count the no of words in a string\n",
        "\n",
        "\n",
        "string = \"Hello World, this is a test\"\n",
        "num_words = len(string.split())\n",
        "print(num_words)\n",
        "\n"
      ],
      "metadata": {
        "colab": {
          "base_uri": "https://localhost:8080/"
        },
        "id": "OMLC-pHxiTab",
        "outputId": "c71996ea-bf4e-48e9-97e7-eaf0abe5ab15"
      },
      "execution_count": null,
      "outputs": [
        {
          "output_type": "stream",
          "name": "stdout",
          "text": [
            "6\n"
          ]
        }
      ]
    },
    {
      "cell_type": "markdown",
      "source": [],
      "metadata": {
        "id": "gfudcVHzdoY5"
      }
    },
    {
      "cell_type": "code",
      "source": [
        "#10 concatenate string without using +\n",
        "\n",
        "str1 = \"Hello\"\n",
        "str2 = \"World\"\n",
        "concatenated_string = ''.join([str1, str2])\n",
        "\n",
        "print(concatenated_string)"
      ],
      "metadata": {
        "colab": {
          "base_uri": "https://localhost:8080/"
        },
        "id": "pospLPFLgOrV",
        "outputId": "4df29b80-4660-446f-beb1-832314eb8882"
      },
      "execution_count": null,
      "outputs": [
        {
          "output_type": "stream",
          "name": "stdout",
          "text": [
            "HelloWorld\n"
          ]
        }
      ]
    },
    {
      "cell_type": "code",
      "source": [
        "# 11. Remove all occurrences of a specific element from a list\n",
        "my_list = [1, 2, 3, 2, 4, 2, 5]\n",
        "element_to_remove = 2\n",
        "my_list = [x for x in my_list if x != element_to_remove]\n",
        "print(my_list)\n"
      ],
      "metadata": {
        "colab": {
          "base_uri": "https://localhost:8080/"
        },
        "id": "9VjVHJHjg8Qm",
        "outputId": "627e23bf-7db4-4776-96d8-e49bf2453955"
      },
      "execution_count": null,
      "outputs": [
        {
          "output_type": "stream",
          "name": "stdout",
          "text": [
            "[1, 3, 4, 5]\n"
          ]
        }
      ]
    },
    {
      "cell_type": "code",
      "source": [
        "# 12. Find the second largest number in a given list of integers\n",
        "my_list = [10, 20, 30, 40, 50]\n",
        "sorted_list = sorted(set(my_list))\n",
        "second_largest = sorted_list[-2]\n",
        "print(second_largest)"
      ],
      "metadata": {
        "colab": {
          "base_uri": "https://localhost:8080/"
        },
        "id": "E27B5dBji2Ir",
        "outputId": "c23af93e-0c8a-4794-cde5-bfca100a9cfb"
      },
      "execution_count": null,
      "outputs": [
        {
          "output_type": "stream",
          "name": "stdout",
          "text": [
            "40\n"
          ]
        }
      ]
    },
    {
      "cell_type": "code",
      "source": [
        "# 13. Count occurrences of each element in a list and return a dictionary\n",
        "my_list = [1, 2, 1, 3, 2, 4, 1]\n",
        "count_dict = {}\n",
        "for item in my_list:\n",
        "    count_dict[item] = count_dict.get(item, 0) + 1\n",
        "print(count_dict)"
      ],
      "metadata": {
        "colab": {
          "base_uri": "https://localhost:8080/"
        },
        "id": "VqZbqqHVjA58",
        "outputId": "28a65529-e8cc-4b7c-873f-c98653113c0e"
      },
      "execution_count": null,
      "outputs": [
        {
          "output_type": "stream",
          "name": "stdout",
          "text": [
            "{1: 3, 2: 2, 3: 1, 4: 1}\n"
          ]
        }
      ]
    },
    {
      "cell_type": "code",
      "source": [
        "# 14. Reverse a list in-place without using any built-in reverse functions\n",
        "my_list = [1, 2, 3, 4, 5]\n",
        "length = len(my_list)\n",
        "for i in range(length // 2):\n",
        "    my_list[i], my_list[length - i - 1] = my_list[length - i - 1], my_list[i]\n",
        "print(my_list)"
      ],
      "metadata": {
        "colab": {
          "base_uri": "https://localhost:8080/"
        },
        "id": "3GLEF9jAjEbW",
        "outputId": "138da06c-8412-43b2-9d5c-ed0192043677"
      },
      "execution_count": null,
      "outputs": [
        {
          "output_type": "stream",
          "name": "stdout",
          "text": [
            "[5, 4, 3, 2, 1]\n"
          ]
        }
      ]
    },
    {
      "cell_type": "code",
      "source": [
        "# 15. Find and remove duplicates from a list while preserving original order\n",
        "my_list = [1, 2, 3, 2, 4, 3, 5]\n",
        "unique_list = []\n",
        "for item in my_list:\n",
        "    if item not in unique_list:\n",
        "        unique_list.append(item)\n",
        "print(unique_list)"
      ],
      "metadata": {
        "colab": {
          "base_uri": "https://localhost:8080/"
        },
        "id": "dEFycU6JjHmt",
        "outputId": "a2bf282e-940c-47d5-862e-d370fa41c270"
      },
      "execution_count": null,
      "outputs": [
        {
          "output_type": "stream",
          "name": "stdout",
          "text": [
            "[1, 2, 3, 4, 5]\n"
          ]
        }
      ]
    },
    {
      "cell_type": "code",
      "source": [
        "# 16. Check if a given list is sorted (either in ascending or descending order)\n",
        "ascending = all(my_list[i] <= my_list[i+1] for i in range(len(my_list)-1))\n",
        "descending = all(my_list[i] >= my_list[i+1] for i in range(len(my_list)-1))\n",
        "print(ascending or descending)"
      ],
      "metadata": {
        "colab": {
          "base_uri": "https://localhost:8080/"
        },
        "id": "cN87BIQZjLQD",
        "outputId": "0af99ef7-c190-4334-9d92-45091bd33544"
      },
      "execution_count": null,
      "outputs": [
        {
          "output_type": "stream",
          "name": "stdout",
          "text": [
            "False\n"
          ]
        }
      ]
    },
    {
      "cell_type": "code",
      "source": [
        "# 17. Merge two sorted lists into a single sorted list\n",
        "list1 = [1, 3, 5, 7]\n",
        "list2 = [2, 4, 6, 8]\n",
        "merged_list = sorted(list1 + list2)\n",
        "print(merged_list)"
      ],
      "metadata": {
        "colab": {
          "base_uri": "https://localhost:8080/"
        },
        "id": "1H0OmfD5jVGj",
        "outputId": "fe80f755-4793-46bc-a546-ec02b63d872c"
      },
      "execution_count": null,
      "outputs": [
        {
          "output_type": "stream",
          "name": "stdout",
          "text": [
            "[1, 2, 3, 4, 5, 6, 7, 8]\n"
          ]
        }
      ]
    },
    {
      "cell_type": "code",
      "source": [
        "# 18. Find the intersection of two given lists\n",
        "list1 = [1, 2, 3, 4, 5]\n",
        "list2 = [4, 5, 6, 7, 8]\n",
        "intersection = list(set(list1) & set(list2))\n",
        "print(intersection)"
      ],
      "metadata": {
        "colab": {
          "base_uri": "https://localhost:8080/"
        },
        "id": "TDibijugjYnV",
        "outputId": "537cad9d-1a03-4e9b-adba-1a23b691c0ff"
      },
      "execution_count": null,
      "outputs": [
        {
          "output_type": "stream",
          "name": "stdout",
          "text": [
            "[4, 5]\n"
          ]
        }
      ]
    },
    {
      "cell_type": "code",
      "source": [
        "# 19. Find the union of two lists without duplicates\n",
        "list1 = [1, 2, 3, 4]\n",
        "list2 = [3, 4, 5, 6]\n",
        "union = list(set(list1) | set(list2))\n",
        "print(union)"
      ],
      "metadata": {
        "colab": {
          "base_uri": "https://localhost:8080/"
        },
        "id": "RUKPhhgzjcW9",
        "outputId": "9ac03fad-48c8-416a-9634-0d7586c0e734"
      },
      "execution_count": null,
      "outputs": [
        {
          "output_type": "stream",
          "name": "stdout",
          "text": [
            "[1, 2, 3, 4, 5, 6]\n"
          ]
        }
      ]
    },
    {
      "cell_type": "code",
      "source": [
        "# 20. Shuffle a given list randomly without using any built-in shuffle functions (Fisher-Yates shuffle algorithm)\n",
        "import random\n",
        "\n",
        "my_list = [1, 2, 3, 4, 5]\n",
        "\n",
        "# Fisher-Yates shuffle algorithm\n",
        "for i in range(len(my_list) - 1, 0, -1):\n",
        "    j = random.randint(0, i)\n",
        "    my_list[i], my_list[j] = my_list[j], my_list[i]\n",
        "\n",
        "print(my_list)\n"
      ],
      "metadata": {
        "colab": {
          "base_uri": "https://localhost:8080/"
        },
        "id": "z4ZNNu7VjoDO",
        "outputId": "76b1d782-22d3-4ba9-d1d6-79938e44384e"
      },
      "execution_count": null,
      "outputs": [
        {
          "output_type": "stream",
          "name": "stdout",
          "text": [
            "[4, 3, 5, 2, 1]\n"
          ]
        }
      ]
    },
    {
      "cell_type": "code",
      "source": [
        "# 21. Find common elements in two tuples\n",
        "tuple1 = (1, 2, 3, 4, 5)\n",
        "tuple2 = (4, 5, 6, 7, 8)\n",
        "common_elements = tuple(set(tuple1) & set(tuple2))\n",
        "print(common_elements)"
      ],
      "metadata": {
        "colab": {
          "base_uri": "https://localhost:8080/"
        },
        "id": "QaZVb2Zujwj1",
        "outputId": "287a963b-95d9-461c-b235-d0c883fe9f02"
      },
      "execution_count": null,
      "outputs": [
        {
          "output_type": "stream",
          "name": "stdout",
          "text": [
            "(4, 5)\n"
          ]
        }
      ]
    },
    {
      "cell_type": "code",
      "source": [
        "# 22. Intersection of two sets entered by user\n",
        "set1 = set(map(int, input(\"Enter integers for set 1 separated by commas: \").split(',')))\n",
        "set2 = set(map(int, input(\"Enter integers for set 2 separated by commas: \").split(',')))\n",
        "intersection = set1.intersection(set2)\n",
        "print(\"Intersection of the two sets:\", intersection)"
      ],
      "metadata": {
        "colab": {
          "base_uri": "https://localhost:8080/"
        },
        "id": "Dcg1xL4YjzAg",
        "outputId": "679bda03-58d6-47fe-bec8-52a5ed87b910"
      },
      "execution_count": null,
      "outputs": [
        {
          "output_type": "stream",
          "name": "stdout",
          "text": [
            "Enter integers for set 1 separated by commas: 1, 2, 33, 55 \n",
            "Enter integers for set 2 separated by commas: 4,2,33,55\n",
            "Intersection of the two sets: {33, 2, 55}\n"
          ]
        }
      ]
    },
    {
      "cell_type": "code",
      "source": [
        "# 23. Concatenate two tuples\n",
        "tuple1 = (1, 2, 3)\n",
        "tuple2 = (4, 5, 6)\n",
        "concatenated_tuple = tuple1 + tuple2\n",
        "print(concatenated_tuple)"
      ],
      "metadata": {
        "colab": {
          "base_uri": "https://localhost:8080/"
        },
        "id": "zJHBEXkckA-O",
        "outputId": "aebe213a-1aaf-48f3-bde9-11c56da5aaa2"
      },
      "execution_count": null,
      "outputs": [
        {
          "output_type": "stream",
          "name": "stdout",
          "text": [
            "(1, 2, 3, 4, 5, 6)\n"
          ]
        }
      ]
    },
    {
      "cell_type": "code",
      "source": [
        "# 24. Print elements present in the first set but not in the second set\n",
        "set1 = set(input(\"Enter elements for set 1 separated by spaces: \").split())\n",
        "set2 = set(input(\"Enter elements for set 2 separated by spaces: \").split())\n",
        "result_set = set1 - set2\n",
        "print(\"Elements present in the first set but not in the second set:\", result_set)"
      ],
      "metadata": {
        "colab": {
          "base_uri": "https://localhost:8080/"
        },
        "id": "41abBXp3kNYn",
        "outputId": "6e680cc7-eff7-47db-fbf5-c61ab538857a"
      },
      "execution_count": null,
      "outputs": [
        {
          "output_type": "stream",
          "name": "stdout",
          "text": [
            "Enter elements for set 1 separated by spaces: hello,study,books,coding\n",
            "Enter elements for set 2 separated by spaces: hello,dfjas,adffasfg\n",
            "Elements present in the first set but not in the second set: {'hello,study,books,coding'}\n"
          ]
        }
      ]
    },
    {
      "cell_type": "code",
      "source": [
        "# 26. Print union of two sets of characters entered by user\n",
        "set1 = set(input(\"Enter characters for set 1 separated by spaces: \"))\n",
        "set2 = set(input(\"Enter characters for set 2 separated by spaces: \"))\n",
        "union_set = set1.union(set2)\n",
        "print(\"Union of the two sets:\", union_set)"
      ],
      "metadata": {
        "colab": {
          "base_uri": "https://localhost:8080/"
        },
        "id": "hmTFC39Dkeqh",
        "outputId": "72a83408-3566-4537-baa9-bfa839c0c4f8"
      },
      "execution_count": null,
      "outputs": [
        {
          "output_type": "stream",
          "name": "stdout",
          "text": [
            "Enter characters for set 1 separated by spaces: a,a,b,b,c,c,\n",
            "Enter characters for set 2 separated by spaces: d,a,a,b,c,\n",
            "Union of the two sets: {'d', 'c', ',', 'a', 'b'}\n"
          ]
        }
      ]
    },
    {
      "cell_type": "code",
      "source": [
        "# 27. Return maximum and minimum values from tuple using tuple unpacking\n",
        "input_tuple = (10, 5, 20, 15, 30)\n",
        "max_value, min_value = max(input_tuple), min(input_tuple)\n",
        "print(\"Maximum value:\", max_value)\n",
        "print(\"Minimum value:\", min_value)"
      ],
      "metadata": {
        "colab": {
          "base_uri": "https://localhost:8080/"
        },
        "id": "k-ZlbYTzkpx9",
        "outputId": "b5ebea3e-b2d6-4a16-84c0-1e834e1e0316"
      },
      "execution_count": null,
      "outputs": [
        {
          "output_type": "stream",
          "name": "stdout",
          "text": [
            "Maximum value: 30\n",
            "Minimum value: 5\n"
          ]
        }
      ]
    },
    {
      "cell_type": "code",
      "source": [
        "# 28. Print union, intersection, and difference of two sets of integers\n",
        "set1 = {1, 2, 3, 4, 5}\n",
        "set2 = {4, 5, 6, 7, 8}\n",
        "union_set = set1.union(set2)\n",
        "intersection_set = set1.intersection(set2)\n",
        "difference_set = set1.difference(set2)\n",
        "print(\"Union:\", union_set)\n",
        "print(\"Intersection:\", intersection_set)\n",
        "print(\"Difference (set1 - set2):\", difference_set)"
      ],
      "metadata": {
        "colab": {
          "base_uri": "https://localhost:8080/"
        },
        "id": "2rPMGFIhkshu",
        "outputId": "1839a489-a86a-4fe4-be54-f27b2614638e"
      },
      "execution_count": null,
      "outputs": [
        {
          "output_type": "stream",
          "name": "stdout",
          "text": [
            "Union: {1, 2, 3, 4, 5, 6, 7, 8}\n",
            "Intersection: {4, 5}\n",
            "Difference (set1 - set2): {1, 2, 3}\n"
          ]
        }
      ]
    },
    {
      "cell_type": "code",
      "source": [
        "# 29. Return count of occurrences of given element in tuple\n",
        "input_tuple = (1, 2, 3, 4, 2, 5, 2)\n",
        "element_to_count = 2\n",
        "count = input_tuple.count(element_to_count)\n",
        "print(\"Count of occurrences:\", count)"
      ],
      "metadata": {
        "colab": {
          "base_uri": "https://localhost:8080/"
        },
        "id": "dYubEEUzkuUT",
        "outputId": "05bfbced-1a16-4ac8-bd8a-06f15f830264"
      },
      "execution_count": null,
      "outputs": [
        {
          "output_type": "stream",
          "name": "stdout",
          "text": [
            "Count of occurrences: 3\n"
          ]
        }
      ]
    },
    {
      "cell_type": "code",
      "source": [
        "# 30. Print symmetric difference of two sets of strings entered by user\n",
        "set1 = set(input(\"Enter strings for set 1 separated by spaces: \").split())\n",
        "set2 = set(input(\"Enter strings for set 2 separated by spaces: \").split())\n",
        "symmetric_difference = set1.symmetric_difference(set2)\n",
        "print(\"Symmetric difference of the two sets:\", symmetric_difference)"
      ],
      "metadata": {
        "colab": {
          "base_uri": "https://localhost:8080/"
        },
        "id": "zu19Nqb0kx4H",
        "outputId": "eabb9368-6d61-4afb-b3b8-00c60e7b0fcd"
      },
      "execution_count": null,
      "outputs": [
        {
          "output_type": "stream",
          "name": "stdout",
          "text": [
            "Enter strings for set 1 separated by spaces: arjun bow arrow warrior\n",
            "Enter strings for set 2 separated by spaces: arjun hero villan fight \n",
            "Symmetric difference of the two sets: {'villan', 'hero', 'bow', 'warrior', 'arrow', 'fight'}\n"
          ]
        }
      ]
    },
    {
      "cell_type": "code",
      "source": [
        "# 31. Return dictionary with frequencies of unique words in input list\n",
        "input_list = input(\"Enter a list of words separated by spaces: \").split()\n",
        "word_freq_dict = {}\n",
        "for word in input_list:\n",
        "    word_freq_dict[word] = word_freq_dict.get(word, 0) + 1\n",
        "print(\"Word frequencies:\", word_freq_dict)\n"
      ],
      "metadata": {
        "colab": {
          "base_uri": "https://localhost:8080/"
        },
        "id": "FP5hfoG-k-QI",
        "outputId": "1c4e58c7-3b2b-430d-9d58-16d18813ee72"
      },
      "execution_count": null,
      "outputs": [
        {
          "output_type": "stream",
          "name": "stdout",
          "text": [
            "Enter a list of words separated by spaces: india india india america china \n",
            "Word frequencies: {'india': 3, 'america': 1, 'china': 1}\n"
          ]
        }
      ]
    },
    {
      "cell_type": "code",
      "source": [
        "# 32. Merge two dictionaries into a single dictionary\n",
        "dict1 = {'a': 1, 'b': 2, 'c': 3}\n",
        "dict2 = {'b': 3, 'd': 4, 'e': 5}\n",
        "merged_dict = {key: dict1.get(key, 0) + dict2.get(key, 0) for key in set(dict1) | set(dict2)}\n",
        "print(\"Merged dictionary:\", merged_dict)\n"
      ],
      "metadata": {
        "colab": {
          "base_uri": "https://localhost:8080/"
        },
        "id": "_UM6tzUblM1T",
        "outputId": "13bde244-d5ce-4ce8-be89-1eccfebcf9ac"
      },
      "execution_count": null,
      "outputs": [
        {
          "output_type": "stream",
          "name": "stdout",
          "text": [
            "Merged dictionary: {'e': 5, 'd': 4, 'c': 3, 'a': 1, 'b': 5}\n"
          ]
        }
      ]
    },
    {
      "cell_type": "code",
      "source": [
        "# 33. Access value in nested dictionary using list of keys\n",
        "nested_dict = {'a': {'b': {'c': 1}}}\n",
        "keys = ['a', 'b', 'c']\n",
        "value = nested_dict\n",
        "for key in keys:\n",
        "    if key in value:\n",
        "        value = value[key]\n",
        "    else:\n",
        "        value = None\n",
        "        break\n",
        "print(\"Value:\", value)"
      ],
      "metadata": {
        "colab": {
          "base_uri": "https://localhost:8080/"
        },
        "id": "c7rW7bUjlZKG",
        "outputId": "52cba9a6-4cb1-4206-95a8-0faa06e075ef"
      },
      "execution_count": null,
      "outputs": [
        {
          "output_type": "stream",
          "name": "stdout",
          "text": [
            "Value: 1\n"
          ]
        }
      ]
    },
    {
      "cell_type": "code",
      "source": [
        "# 34. Return sorted version of dictionary based on values\n",
        "input_dict = {'a': 3, 'b': 1, 'c': 2}\n",
        "sorted_dict = dict(sorted(input_dict.items(), key=lambda item: item[1]))\n",
        "print(\"Sorted dictionary:\", sorted_dict)"
      ],
      "metadata": {
        "colab": {
          "base_uri": "https://localhost:8080/"
        },
        "id": "SOGfYQNzlcM6",
        "outputId": "6be68cfd-1ae9-4f14-c531-909e7d5bc6b3"
      },
      "execution_count": null,
      "outputs": [
        {
          "output_type": "stream",
          "name": "stdout",
          "text": [
            "Sorted dictionary: {'b': 1, 'c': 2, 'a': 3}\n"
          ]
        }
      ]
    },
    {
      "cell_type": "code",
      "source": [
        "# 35  Write a code that inverts a dictionary, swapping keys and values. Ensure that the inverted dictionary\n",
        "# correctly handles cases where multiple keys have the same value by storing the keys as a list in the\n",
        "# inverted dictionary.\n",
        "\n",
        "\n",
        "dictionary = {'a': 1, 'b': 2, 'c': 1, 'd': 3}\n",
        "\n",
        "inverted_dict = {}\n",
        "for key, value in dictionary.items():\n",
        "    if value not in inverted_dict:\n",
        "        inverted_dict[value] = [key]\n",
        "    else:\n",
        "        inverted_dict[value].append(key)\n",
        "print(inverted_dict)"
      ],
      "metadata": {
        "colab": {
          "base_uri": "https://localhost:8080/"
        },
        "id": "1wD3uMXqfiwM",
        "outputId": "b8d74b56-61e7-4ec4-f018-52facf65b56d"
      },
      "execution_count": null,
      "outputs": [
        {
          "output_type": "stream",
          "name": "stdout",
          "text": [
            "{1: ['a', 'c'], 2: ['b'], 3: ['d']}\n"
          ]
        }
      ]
    }
  ]
}