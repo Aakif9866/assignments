{
 "cells": [
  {
   "cell_type": "code",
   "execution_count": 4,
   "metadata": {},
   "outputs": [
    {
     "name": "stdout",
     "output_type": "stream",
     "text": [
      "int64\n"
     ]
    }
   ],
   "source": [
    "# 1 Create a NumPy array 'arr' of integers from 0 to 5 and print its data type.\n",
    "\n",
    "\n",
    "import numpy as np\n",
    "\n",
    "arr = np.arange(6)\n",
    "print(arr.dtype)\n"
   ]
  },
  {
   "cell_type": "code",
   "execution_count": 5,
   "metadata": {},
   "outputs": [
    {
     "name": "stdout",
     "output_type": "stream",
     "text": [
      "True\n"
     ]
    }
   ],
   "source": [
    "# 2 Given a NumPy array 'arr', check if its data type is float64.\n",
    "\n",
    "arr = np.array([1.5, 2.6, 3.7])\n",
    "is_float64 = arr.dtype == np.float64\n",
    "print(is_float64)\n"
   ]
  },
  {
   "cell_type": "code",
   "execution_count": 6,
   "metadata": {},
   "outputs": [
    {
     "name": "stdout",
     "output_type": "stream",
     "text": [
      "[1.+2.j 3.+4.j 5.+6.j]\n"
     ]
    }
   ],
   "source": [
    "# 3 Create a NumPy array 'arr' with a data type of complex128 containing three complex numbers.\n",
    "\n",
    "arr = np.array([1+2j, 3+4j, 5+6j])\n",
    "print(arr)\n"
   ]
  },
  {
   "cell_type": "code",
   "execution_count": 7,
   "metadata": {},
   "outputs": [
    {
     "name": "stdout",
     "output_type": "stream",
     "text": [
      "[1. 2. 3. 4. 5.]\n"
     ]
    }
   ],
   "source": [
    "# 4 Convert an existing NumPy array 'arr' of integers to float32 data type.\n",
    "\n",
    "arr = np.array([1, 2, 3, 4, 5])\n",
    "arr_float32 = arr.astype(np.float32)\n",
    "print(arr_float32)\n"
   ]
  },
  {
   "cell_type": "code",
   "execution_count": 8,
   "metadata": {},
   "outputs": [
    {
     "name": "stdout",
     "output_type": "stream",
     "text": [
      "[1.53434 2.62542 3.25227]\n"
     ]
    }
   ],
   "source": [
    "# 5 Given a NumPy array 'arr' with float64 data type, convert it to float32 to reduce decimal precision.\n",
    "\n",
    "arr = np.array([1.53434, 2.62542, 3.25227], dtype=np.float64)\n",
    "arr_float32 = arr.astype(np.float32)\n",
    "print(arr_float32)\n"
   ]
  },
  {
   "cell_type": "code",
   "execution_count": 9,
   "metadata": {},
   "outputs": [
    {
     "name": "stdout",
     "output_type": "stream",
     "text": [
      "((3,), 3, dtype('float64'))\n"
     ]
    }
   ],
   "source": [
    "# 6 Write a function array_attributes that takes a NumPy array as input and returns its shape, size, and data type.\n",
    "\n",
    "def array_attributes(arr):\n",
    "    return arr.shape, arr.size, arr.dtype\n",
    "\n",
    "arr = np.array([1.5, 2.6, 3.7])\n",
    "print(array_attributes(arr))\n"
   ]
  },
  {
   "cell_type": "code",
   "execution_count": 10,
   "metadata": {},
   "outputs": [
    {
     "name": "stdout",
     "output_type": "stream",
     "text": [
      "2\n"
     ]
    }
   ],
   "source": [
    "# 7 Create a function array_dimension that takes a NumPy array as input and returns its dimensionality.\n",
    "\n",
    "def array_dimension(arr):\n",
    "    return arr.ndim\n",
    "\n",
    "arr = np.array([[1, 2, 3], [4, 5, 6]])\n",
    "print(array_dimension(arr))\n"
   ]
  },
  {
   "cell_type": "code",
   "execution_count": 11,
   "metadata": {},
   "outputs": [
    {
     "name": "stdout",
     "output_type": "stream",
     "text": [
      "(8, 40)\n"
     ]
    }
   ],
   "source": [
    "# 8 Design a function item_size_info that takes a NumPy array as input and returns the item size and the total size in bytes.\n",
    "\n",
    "def item_size_info(arr):\n",
    "    return arr.itemsize, arr.nbytes\n",
    "\n",
    "arr = np.array([1, 2, 3, 4, 5])\n",
    "print(item_size_info(arr))\n"
   ]
  },
  {
   "cell_type": "code",
   "execution_count": 12,
   "metadata": {},
   "outputs": [
    {
     "name": "stdout",
     "output_type": "stream",
     "text": [
      "(24, 8)\n"
     ]
    }
   ],
   "source": [
    "# 9 Create a function array_strides that takes a NumPy array as input and returns the strides of the array.\n",
    "\n",
    "def array_strides(arr):\n",
    "    return arr.strides\n",
    "\n",
    "arr = np.array([[1, 2, 3], [4, 5, 6]])\n",
    "print(array_strides(arr))\n",
    "\n"
   ]
  },
  {
   "cell_type": "code",
   "execution_count": 13,
   "metadata": {},
   "outputs": [
    {
     "name": "stdout",
     "output_type": "stream",
     "text": [
      "((2, 3), (24, 8))\n"
     ]
    }
   ],
   "source": [
    "# 10 Design a function shape_stride_relationship that takes a NumPy array as input and returns the shape and strides of the array\n",
    "\n",
    "def shape_stride_relationship(arr):\n",
    "    return arr.shape, arr.strides\n",
    "\n",
    "arr = np.array([[1, 2, 3], [4, 5, 6]])\n",
    "print(shape_stride_relationship(arr))\n"
   ]
  },
  {
   "cell_type": "code",
   "execution_count": 14,
   "metadata": {},
   "outputs": [
    {
     "name": "stdout",
     "output_type": "stream",
     "text": [
      "[0. 0. 0. 0. 0.]\n"
     ]
    }
   ],
   "source": [
    "#  11 Create a function create_zeros_array that takes an integer n as input and returns a NumPy array of zeros with n elements.\n",
    "def create_zeros_array(n):\n",
    "    return np.zeros(n)\n",
    "\n",
    "print(create_zeros_array(5))\n"
   ]
  },
  {
   "cell_type": "code",
   "execution_count": 15,
   "metadata": {},
   "outputs": [
    {
     "name": "stdout",
     "output_type": "stream",
     "text": [
      "[[1. 1. 1. 1.]\n",
      " [1. 1. 1. 1.]\n",
      " [1. 1. 1. 1.]]\n"
     ]
    }
   ],
   "source": [
    "# 12 Write a function create_ones_matrix that takes integers rows and cols as inputs and generates a 2D NumPy array filled with ones of size rows x cols.\n",
    "\n",
    "def create_ones_matrix(rows, cols):\n",
    "    return np.ones((rows, cols))\n",
    "\n",
    "print(create_ones_matrix(3, 4))\n"
   ]
  },
  {
   "cell_type": "code",
   "execution_count": 16,
   "metadata": {},
   "outputs": [
    {
     "name": "stdout",
     "output_type": "stream",
     "text": [
      "[1 3 5 7 9]\n"
     ]
    }
   ],
   "source": [
    "# 13 Write a function generate_range_array that takes three integers start, stop, and step as arguments and creates a NumPy array with a range starting from start, ending at stop (exclusive), and with the specified step.\n",
    "\n",
    "def generate_range_array(start, stop, step):\n",
    "    return np.arange(start, stop, step)\n",
    "\n",
    "print(generate_range_array(1, 10, 2))\n",
    "\n"
   ]
  },
  {
   "cell_type": "code",
   "execution_count": 17,
   "metadata": {},
   "outputs": [
    {
     "name": "stdout",
     "output_type": "stream",
     "text": [
      "[1.         1.44444444 1.88888889 2.33333333 2.77777778 3.22222222\n",
      " 3.66666667 4.11111111 4.55555556 5.        ]\n"
     ]
    }
   ],
   "source": [
    "# 14 Design a function generate_linear_space that takes two floats start, stop, and an integer num as arguments and generates a NumPy array with num equally spaced values between start and stop (inclusive).\n",
    "\n",
    "def generate_linear_space(start, stop, num):\n",
    "    return np.linspace(start, stop, num)\n",
    "\n",
    "print(generate_linear_space(1.0, 5.0, 10))\n"
   ]
  },
  {
   "cell_type": "code",
   "execution_count": 18,
   "metadata": {},
   "outputs": [
    {
     "name": "stdout",
     "output_type": "stream",
     "text": [
      "[[1. 0. 0.]\n",
      " [0. 1. 0.]\n",
      " [0. 0. 1.]]\n"
     ]
    }
   ],
   "source": [
    "#  15 Create a function create_identity_matrix that takes an integer n as input and generates a square identity matrix of size n x n using numpy.eye.\n",
    "\n",
    "def create_identity_matrix(n):\n",
    "    return np.eye(n)\n",
    "\n",
    "print(create_identity_matrix(3))\n"
   ]
  },
  {
   "cell_type": "code",
   "execution_count": 19,
   "metadata": {},
   "outputs": [
    {
     "name": "stdout",
     "output_type": "stream",
     "text": [
      "[1 2 3 4 5]\n"
     ]
    }
   ],
   "source": [
    "# 16 Write a function that takes a Python list and converts it into a NumPy array\n",
    "\n",
    "def list_to_array(lst):\n",
    "    return np.array(lst)\n",
    "\n",
    "print(list_to_array([1, 2, 3, 4, 5]))\n"
   ]
  },
  {
   "cell_type": "code",
   "execution_count": 20,
   "metadata": {},
   "outputs": [
    {
     "name": "stdout",
     "output_type": "stream",
     "text": [
      "[1 2 3 4 5]\n"
     ]
    }
   ],
   "source": [
    "# 17  Create a NumPy array and demonstrate the use of numpy.view to create a new array object with the same data.\n",
    "\n",
    "arr = np.array([1, 2, 3, 4, 5])\n",
    "view_arr = arr.view()\n",
    "print(view_arr)\n"
   ]
  },
  {
   "cell_type": "code",
   "execution_count": 21,
   "metadata": {},
   "outputs": [
    {
     "name": "stdout",
     "output_type": "stream",
     "text": [
      "[1 2 3 4 5 6]\n"
     ]
    }
   ],
   "source": [
    "# 18 Write a function that takes two NumPy arrays and concatenates them along a specified axis.\n",
    "\n",
    "def concatenate_arrays(arr1, arr2, axis=0):\n",
    "    return np.concatenate((arr1, arr2), axis=axis)\n",
    "\n",
    "arr1 = np.array([1, 2, 3])\n",
    "arr2 = np.array([4, 5, 6])\n",
    "print(concatenate_arrays(arr1, arr2))\n"
   ]
  },
  {
   "cell_type": "code",
   "execution_count": 22,
   "metadata": {},
   "outputs": [
    {
     "name": "stdout",
     "output_type": "stream",
     "text": [
      "[[1 2 3 4 5 6]\n",
      " [0 0 0 7 8 9]]\n"
     ]
    }
   ],
   "source": [
    "# 19  Create two NumPy arrays with different shapes and concatenate them horizontally using numpy.concatenate.\n",
    "\n",
    "arr1 = np.array([[1, 2, 3]])\n",
    "arr2 = np.array([[4, 5, 6], [7, 8, 9]])\n",
    "arr1_padded = np.pad(arr1, ((0, 1), (0, 0)), 'constant')\n",
    "result = np.concatenate((arr1_padded, arr2), axis=1)\n",
    "print(result)\n"
   ]
  },
  {
   "cell_type": "code",
   "execution_count": 23,
   "metadata": {},
   "outputs": [
    {
     "name": "stdout",
     "output_type": "stream",
     "text": [
      "[[1 2 3]\n",
      " [4 5 6]\n",
      " [7 8 9]]\n"
     ]
    }
   ],
   "source": [
    "#20  Write a function that vertically stacks multiple NumPy arrays given as a list.\n",
    "def stack_arrays_vertically(arr_list):\n",
    "    return np.vstack(arr_list)\n",
    "\n",
    "arr_list = [np.array([1, 2, 3]), np.array([4, 5, 6]), np.array([7, 8, 9])]\n",
    "print(stack_arrays_vertically(arr_list))\n",
    "\n"
   ]
  },
  {
   "cell_type": "code",
   "execution_count": 25,
   "metadata": {},
   "outputs": [
    {
     "name": "stdout",
     "output_type": "stream",
     "text": [
      "[1 3 5 7 9]\n"
     ]
    }
   ],
   "source": [
    "#21 Write a Python function using NumPy to create an array of integers within a specified range (inclusive) with a given step size.\n",
    "\n",
    "def create_range_array(start, stop, step):\n",
    "    return np.arange(start, stop + 1, step)\n",
    "\n",
    "print(create_range_array(1, 10, 2))\n"
   ]
  },
  {
   "cell_type": "code",
   "execution_count": 26,
   "metadata": {},
   "outputs": [
    {
     "name": "stdout",
     "output_type": "stream",
     "text": [
      "[0.         0.11111111 0.22222222 0.33333333 0.44444444 0.55555556\n",
      " 0.66666667 0.77777778 0.88888889 1.        ]\n"
     ]
    }
   ],
   "source": [
    "#22 Write a Python function using NumPy to generate an array of 10 equally spaced values between 0 and 1 (inclusive). \n",
    " \n",
    "def generate_spaced_values():\n",
    "    return np.linspace(0, 1, 10)\n",
    "\n",
    "print(generate_spaced_values())\n"
   ]
  },
  {
   "cell_type": "code",
   "execution_count": 27,
   "metadata": {},
   "outputs": [
    {
     "name": "stdout",
     "output_type": "stream",
     "text": [
      "[   1.            5.62341325   31.6227766   177.827941   1000.        ]\n"
     ]
    }
   ],
   "source": [
    "\n",
    "# 23 Write a Python function using NumPy to create an array of 5 logarithmically spaced values between 1 and 1000 (inclusive).\n",
    "\n",
    "\n",
    "def generate_log_space():\n",
    "    return np.logspace(0, 3, 5, base=10.0)\n",
    "\n",
    "print(generate_log_space())\n"
   ]
  },
  {
   "cell_type": "code",
   "execution_count": 28,
   "metadata": {},
   "outputs": [
    {
     "name": "stdout",
     "output_type": "stream",
     "text": [
      "    A   B   C\n",
      "0  65  73  61\n",
      "1  61  62  88\n",
      "2  60  42  66\n",
      "3  17  46  21\n",
      "4  72  29   2\n"
     ]
    }
   ],
   "source": [
    "# 24 Create a Pandas DataFrame using a NumPy array that contains 5 rows and 3 columns, where the values are random integers between 1 and 100.\n",
    "\n",
    "import pandas as pd\n",
    "\n",
    "data = np.random.randint(1, 101, size=(5, 3))\n",
    "df = pd.DataFrame(data, columns=['A', 'B', 'C'])\n",
    "print(df)\n"
   ]
  },
  {
   "cell_type": "code",
   "execution_count": 29,
   "metadata": {},
   "outputs": [
    {
     "name": "stdout",
     "output_type": "stream",
     "text": [
      "   A  B\n",
      "0  1 -4\n",
      "1  0  5\n",
      "2  3 -6\n"
     ]
    }
   ],
   "source": [
    "# 25  Write a function that takes a Pandas DataFrame and replaces all negative values in a specific column with zeros. Use NumPy operations within the Pandas DataFrame.\n",
    "\n",
    "def replace_negatives_with_zeros(df, column):\n",
    "    df[column] = np.where(df[column] < 0, 0, df[column])\n",
    "    return df\n",
    "\n",
    "df = pd.DataFrame({'A': [1, -2, 3], 'B': [-4, 5, -6]})\n",
    "print(replace_negatives_with_zeros(df, 'A'))\n"
   ]
  },
  {
   "cell_type": "code",
   "execution_count": 30,
   "metadata": {},
   "outputs": [
    {
     "name": "stdout",
     "output_type": "stream",
     "text": [
      "30\n"
     ]
    }
   ],
   "source": [
    "# 26  Access the 3rd element from the given NumPy array.\n",
    "\n",
    "arr = np.array([10, 20, 30, 40, 50])\n",
    "print(arr[2])\n",
    "\n",
    "\n"
   ]
  },
  {
   "cell_type": "code",
   "execution_count": 31,
   "metadata": {},
   "outputs": [
    {
     "name": "stdout",
     "output_type": "stream",
     "text": [
      "6\n"
     ]
    }
   ],
   "source": [
    "# 27 Retrieve the element at index (1, 2) from the 2D NumPy array.\n",
    "\n",
    "arr_2d = np.array([[1, 2, 3], [4, 5, 6], [7, 8, 9]])\n",
    "print(arr_2d[1, 2])\n"
   ]
  },
  {
   "cell_type": "code",
   "execution_count": 32,
   "metadata": {},
   "outputs": [
    {
     "name": "stdout",
     "output_type": "stream",
     "text": [
      "[ 8 10  7]\n"
     ]
    }
   ],
   "source": [
    "# 28 Using boolean indexing, extract elements greater than 5 from the given NumPy array.\n",
    "\n",
    "arr = np.array([3, 8, 2, 10, 5, 7])\n",
    "print(arr[arr > 5])\n",
    "\n"
   ]
  },
  {
   "cell_type": "code",
   "execution_count": 33,
   "metadata": {},
   "outputs": [
    {
     "name": "stdout",
     "output_type": "stream",
     "text": [
      "[3 4 5 6]\n"
     ]
    }
   ],
   "source": [
    "# 29 Perform basic slicing to extract elements from index 2 to 5 (inclusive) from the given NumPy array.\n",
    "\n",
    "arr = np.array([1, 2, 3, 4, 5, 6, 7, 8, 9])\n",
    "print(arr[2:6])\n",
    "\n"
   ]
  },
  {
   "cell_type": "code",
   "execution_count": 34,
   "metadata": {},
   "outputs": [
    {
     "name": "stdout",
     "output_type": "stream",
     "text": [
      "[[2 3]\n",
      " [5 6]]\n"
     ]
    }
   ],
   "source": [
    "# 30 Slice the 2D NumPy array to extract the sub-array [[2, 3], [5, 6]] from the given array.\n",
    "\n",
    "arr_2d = np.array([[1, 2, 3], [4, 5, 6], [7, 8, 9]])\n",
    "print(arr_2d[0:2, 1:3])\n"
   ]
  },
  {
   "cell_type": "code",
   "execution_count": 35,
   "metadata": {},
   "outputs": [
    {
     "name": "stdout",
     "output_type": "stream",
     "text": [
      "[2 6 7]\n"
     ]
    }
   ],
   "source": [
    "# 31 Write a NumPy function to extract elements in specific order from a given 2D array based on indices provided in another array.\n",
    "\n",
    "def extract_elements(arr, indices):\n",
    "    return arr[tuple(indices.T)]\n",
    "\n",
    "arr_2d = np.array([[1, 2, 3], [4, 5, 6], [7, 8, 9]])\n",
    "indices = np.array([[0, 1], [1, 2], [2, 0]])\n",
    "print(extract_elements(arr_2d, indices))\n"
   ]
  },
  {
   "cell_type": "code",
   "execution_count": 36,
   "metadata": {},
   "outputs": [
    {
     "name": "stdout",
     "output_type": "stream",
     "text": [
      "[4 5]\n"
     ]
    }
   ],
   "source": [
    "# 32 Create a NumPy function that filters elements greater than a threshold from a given 1D array using boolean indexing.\n",
    "\n",
    "def filter_greater_than(arr, threshold):\n",
    "    return arr[arr > threshold]\n",
    "\n",
    "arr = np.array([1, 2, 3, 4, 5])\n",
    "print(filter_greater_than(arr, 3))"
   ]
  },
  {
   "cell_type": "code",
   "execution_count": 38,
   "metadata": {},
   "outputs": [
    {
     "name": "stdout",
     "output_type": "stream",
     "text": [
      "[ 5 15 19]\n"
     ]
    }
   ],
   "source": [
    "# 33 Develop a NumPy function that extracts specific elements from a 3D array using indices provided in three separate arrays for each dimension.\n",
    "\n",
    "\n",
    "def extract_elements_3d(arr, idx0, idx1, idx2):\n",
    "    return arr[idx0, idx1, idx2]\n",
    "\n",
    "arr_3d = np.arange(27).reshape(3, 3, 3)\n",
    "idx0 = np.array([0, 1, 2])\n",
    "idx1 = np.array([1, 2, 0])\n",
    "idx2 = np.array([2, 0, 1])\n",
    "print(extract_elements_3d(arr_3d, idx0, idx1, idx2))"
   ]
  },
  {
   "cell_type": "code",
   "execution_count": 39,
   "metadata": {},
   "outputs": [
    {
     "name": "stdout",
     "output_type": "stream",
     "text": [
      "[3 4]\n"
     ]
    }
   ],
   "source": [
    "# 34 Write a NumPy function that returns elements from an array where both two conditions are satisfied using boolean indexing.\n",
    "\n",
    "\n",
    "def filter_two_conditions(arr, cond1, cond2):\n",
    "    return arr[np.logical_and(cond1, cond2)]\n",
    "\n",
    "arr = np.array([1, 2, 3, 4, 5, 6])\n",
    "cond1 = arr > 2\n",
    "cond2 = arr < 5\n",
    "print(filter_two_conditions(arr, cond1, cond2))"
   ]
  },
  {
   "cell_type": "code",
   "execution_count": 40,
   "metadata": {},
   "outputs": [
    {
     "name": "stdout",
     "output_type": "stream",
     "text": [
      "[2 6 7]\n"
     ]
    }
   ],
   "source": [
    "# 35 Create a NumPy function that extracts elements from a 2D array using row and column indices provided in separate arrays.\n",
    "\n",
    "\n",
    "def extract_elements_2d(arr, row_indices, col_indices):\n",
    "    return arr[row_indices, col_indices]\n",
    "\n",
    "arr_2d = np.array([[1, 2, 3], [4, 5, 6], [7, 8, 9]])\n",
    "row_indices = np.array([0, 1, 2])\n",
    "col_indices = np.array([1, 2, 0])\n",
    "print(extract_elements_2d(arr_2d, row_indices, col_indices))"
   ]
  },
  {
   "cell_type": "code",
   "execution_count": 41,
   "metadata": {},
   "outputs": [
    {
     "name": "stdout",
     "output_type": "stream",
     "text": [
      "[[ 6  7  8]\n",
      " [ 9 10 11]\n",
      " [12 13 14]]\n"
     ]
    }
   ],
   "source": [
    "# 36 Given an array arr of shape (3, 3), add a scalar value of 5 to each element using NumPy broadcasting.\n",
    "\n",
    "arr = np.array([[1, 2, 3], [4, 5, 6], [7, 8, 9]])\n",
    "print(arr + 5)\n"
   ]
  },
  {
   "cell_type": "code",
   "execution_count": 42,
   "metadata": {},
   "outputs": [
    {
     "name": "stdout",
     "output_type": "stream",
     "text": [
      "[[ 4  5  6  7]\n",
      " [16 18 20 22]\n",
      " [36 39 42 45]]\n"
     ]
    }
   ],
   "source": [
    "# 37 Consider two arrays arr1 of shape (1, 3) and arr2 of shape (3, 4). Multiply each row of arr2 by the corresponding element in arr1 using NumPy broadcasting.\n",
    "\n",
    "arr1 = np.array([[1, 2, 3]])\n",
    "arr2 = np.array([[4, 5, 6, 7], [8, 9, 10, 11], [12, 13, 14, 15]])\n",
    "print(arr2 * arr1.T)"
   ]
  },
  {
   "cell_type": "code",
   "execution_count": 43,
   "metadata": {},
   "outputs": [
    {
     "name": "stdout",
     "output_type": "stream",
     "text": [
      "[[ 6  7  8]\n",
      " [10 11 12]\n",
      " [14 15 16]\n",
      " [18 19 20]]\n"
     ]
    }
   ],
   "source": [
    "# 38 Given a 1D array arr1 of shape (1, 4) and a 2D array arr2 of shape (4, 3), add arr1 to each row of arr2 using NumPy broadcasting.\n",
    "\n",
    "\n",
    "arr1 = np.array([1, 2, 3, 4])\n",
    "arr2 = np.array([[5, 6, 7], [8, 9, 10], [11, 12, 13], [14, 15, 16]])\n",
    "print(arr2 + arr1[:, None])"
   ]
  },
  {
   "cell_type": "code",
   "execution_count": 44,
   "metadata": {},
   "outputs": [
    {
     "name": "stdout",
     "output_type": "stream",
     "text": [
      "[[5 6 7]\n",
      " [6 7 8]\n",
      " [7 8 9]]\n"
     ]
    }
   ],
   "source": [
    "# 39 Consider two arrays arr1 of shape (3, 1) and arr2 of shape (1, 3). Add these arrays using NumPy broadcasting.\n",
    "\n",
    "arr1 = np.array([[1], [2], [3]])\n",
    "arr2 = np.array([[4, 5, 6]])\n",
    "print(arr1 + arr2)"
   ]
  },
  {
   "cell_type": "code",
   "execution_count": 47,
   "metadata": {},
   "outputs": [
    {
     "name": "stdout",
     "output_type": "stream",
     "text": [
      "[[ 58  64]\n",
      " [139 154]]\n"
     ]
    }
   ],
   "source": [
    "# 40 Given arrays arr1 of shape (2, 3) and arr2 of shape (2, 2), perform multiplication using NumPy.\n",
    "\n",
    "import numpy as np\n",
    "\n",
    "arr1 = np.array([[1, 2, 3], [4, 5, 6]])\n",
    "arr2 = np.array([[7, 8], [9, 10], [11, 12]])\n",
    "result = np.dot(arr1, arr2)\n",
    "print(result)"
   ]
  },
  {
   "cell_type": "code",
   "execution_count": 48,
   "metadata": {},
   "outputs": [
    {
     "name": "stdout",
     "output_type": "stream",
     "text": [
      "[2.5 3.5 4.5]\n"
     ]
    }
   ],
   "source": [
    "# 41 Calculate column-wise mean for the given array:\n",
    "\n",
    "arr = np.array([[1, 2, 3], [4, 5, 6]])\n",
    "column_mean = np.mean(arr, axis=0)\n",
    "print(column_mean)"
   ]
  },
  {
   "cell_type": "code",
   "execution_count": 49,
   "metadata": {},
   "outputs": [
    {
     "name": "stdout",
     "output_type": "stream",
     "text": [
      "[3 6]\n"
     ]
    }
   ],
   "source": [
    "# 42 Find maximum value in each row of the given array:\n",
    "\n",
    "arr = np.array([[1, 2, 3], [4, 5, 6]])\n",
    "row_max = np.max(arr, axis=1)\n",
    "print(row_max)\n"
   ]
  },
  {
   "cell_type": "code",
   "execution_count": 50,
   "metadata": {},
   "outputs": [
    {
     "name": "stdout",
     "output_type": "stream",
     "text": [
      "[1 1 1]\n"
     ]
    }
   ],
   "source": [
    "# 43 For the given array, find indices of maximum value in each column:\n",
    "\n",
    "arr = np.array([[1, 2, 3], [4, 5, 6]])\n",
    "max_indices = np.argmax(arr, axis=0)\n",
    "print(max_indices)\n"
   ]
  },
  {
   "cell_type": "code",
   "execution_count": 51,
   "metadata": {},
   "outputs": [
    {
     "name": "stdout",
     "output_type": "stream",
     "text": [
      "[[ 3.  5.]\n",
      " [ 9. 11.]]\n"
     ]
    }
   ],
   "source": [
    "# 44 For the given array, apply custom function to calculate moving sum along rows:\n",
    "\n",
    "def moving_sum(arr, window_size):\n",
    "    return np.array([np.convolve(row, np.ones(window_size), 'valid') for row in arr])\n",
    "\n",
    "arr = np.array([[1, 2, 3], [4, 5, 6]])\n",
    "result = moving_sum(arr, 2)\n",
    "print(result)\n"
   ]
  },
  {
   "cell_type": "code",
   "execution_count": 52,
   "metadata": {},
   "outputs": [
    {
     "name": "stdout",
     "output_type": "stream",
     "text": [
      "[False False False]\n"
     ]
    }
   ],
   "source": [
    "# 45 In the given array, check if all elements in each column are even:\n",
    "\n",
    "\n",
    "arr = np.array([[2, 4, 6], [3, 5, 7]])\n",
    "all_even_columns = np.all(arr % 2 == 0, axis=0)\n",
    "print(all_even_columns)"
   ]
  },
  {
   "cell_type": "code",
   "execution_count": 53,
   "metadata": {},
   "outputs": [
    {
     "name": "stdout",
     "output_type": "stream",
     "text": [
      "[[1 2 3]\n",
      " [4 5 6]]\n"
     ]
    }
   ],
   "source": [
    "# 46 Given a NumPy array arr, reshape it into a matrix of dimensions m rows and n columns. Return the reshaped matrix:\n",
    "\n",
    "\n",
    "def reshape_array(arr, m, n):\n",
    "    return arr.reshape((m, n))\n",
    "\n",
    "original_array = np.array([1, 2, 3, 4, 5, 6])\n",
    "reshaped_array = reshape_array(original_array, 2, 3)\n",
    "print(reshaped_array)\n"
   ]
  },
  {
   "cell_type": "code",
   "execution_count": 54,
   "metadata": {},
   "outputs": [
    {
     "name": "stdout",
     "output_type": "stream",
     "text": [
      "[1 2 3 4 5 6]\n"
     ]
    }
   ],
   "source": [
    "# 47 Create a function that takes a matrix as input and returns the flattened array:\n",
    "\n",
    "def flatten_matrix(matrix):\n",
    "    return matrix.flatten()\n",
    "\n",
    "input_matrix = np.array([[1, 2, 3], [4, 5, 6]])\n",
    "flattened_array = flatten_matrix(input_matrix)\n",
    "print(flattened_array)\n"
   ]
  },
  {
   "cell_type": "code",
   "execution_count": 55,
   "metadata": {},
   "outputs": [
    {
     "name": "stdout",
     "output_type": "stream",
     "text": [
      "[[1 2]\n",
      " [3 4]\n",
      " [5 6]\n",
      " [7 8]]\n"
     ]
    }
   ],
   "source": [
    "# 48 Write a function that concatenates two given arrays along a specified axis:\n",
    "\n",
    "def concatenate_arrays(arr1, arr2, axis=0):\n",
    "    return np.concatenate((arr1, arr2), axis=axis)\n",
    "\n",
    "array1 = np.array([[1, 2], [3, 4]])\n",
    "array2 = np.array([[5, 6], [7, 8]])\n",
    "concatenated_array = concatenate_arrays(array1, array2, axis=0)\n",
    "print(concatenated_array)\n"
   ]
  },
  {
   "cell_type": "code",
   "execution_count": 56,
   "metadata": {},
   "outputs": [
    {
     "name": "stdout",
     "output_type": "stream",
     "text": [
      "[[1 2 3]]\n",
      "[[4 5 6]]\n",
      "[[7 8 9]]\n"
     ]
    }
   ],
   "source": [
    "# 49 Create a function that splits an array into multiple sub-arrays along a specified axis:\n",
    "\n",
    "def split_array(arr, indices_or_sections, axis=0):\n",
    "    return np.split(arr, indices_or_sections, axis=axis)\n",
    "\n",
    "original_array = np.array([[1, 2, 3], [4, 5, 6], [7, 8, 9]])\n",
    "splitted_arrays = split_array(original_array, 3, axis=0)\n",
    "for sub_array in splitted_arrays:\n",
    "    print(sub_array)"
   ]
  },
  {
   "cell_type": "code",
   "execution_count": 57,
   "metadata": {},
   "outputs": [
    {
     "name": "stdout",
     "output_type": "stream",
     "text": [
      "[ 1 10  4 11  5]\n"
     ]
    }
   ],
   "source": [
    "# 50 Write a function that inserts and then deletes elements from a given array at specified indices:\n",
    "\n",
    "def insert_and_delete(arr, indices_to_insert, values_to_insert, indices_to_delete):\n",
    "    arr = np.insert(arr, indices_to_insert, values_to_insert)\n",
    "    arr = np.delete(arr, indices_to_delete)\n",
    "    return arr\n",
    "\n",
    "original_array = np.array([1, 2, 3, 4, 5])\n",
    "indices_to_insert = [2, 4]\n",
    "values_to_insert = [10, 11]\n",
    "indices_to_delete = [1, 3]\n",
    "modified_array = insert_and_delete(original_array, indices_to_insert, values_to_insert, indices_to_delete)\n",
    "print(modified_array)"
   ]
  },
  {
   "cell_type": "code",
   "execution_count": 58,
   "metadata": {},
   "outputs": [
    {
     "name": "stdout",
     "output_type": "stream",
     "text": [
      "[ 31  36   9  92  18  61  70  53 106  33]\n"
     ]
    }
   ],
   "source": [
    "# 51 Create a NumPy array arr1 with random integers and another array arr2 with integers from 1 to 10. Perform element-wise addition between arr1 and arr2:\n",
    "\n",
    "\n",
    "\n",
    "arr1 = np.random.randint(1, 100, size=10)\n",
    "arr2 = np.arange(1, 11)\n",
    "sum_array = arr1 + arr2\n",
    "print(sum_array)"
   ]
  },
  {
   "cell_type": "code",
   "execution_count": 59,
   "metadata": {},
   "outputs": [
    {
     "name": "stdout",
     "output_type": "stream",
     "text": [
      "[ 9  7  5  3  1 -1 -3 -5 -7 -9]\n"
     ]
    }
   ],
   "source": [
    "# 52 Generate a NumPy array arr1 with sequential integers from 10 to 1 and another array arr2 with integers from 1 to 10. Subtract arr2 from arr1 element-wise:\n",
    "\n",
    "arr1 = np.arange(10, 0, -1)\n",
    "arr2 = np.arange(1, 11)\n",
    "diff_array = arr1 - arr2\n",
    "print(diff_array)\n"
   ]
  },
  {
   "cell_type": "code",
   "execution_count": 60,
   "metadata": {},
   "outputs": [
    {
     "name": "stdout",
     "output_type": "stream",
     "text": [
      "[ 56 140 213 324 295]\n"
     ]
    }
   ],
   "source": [
    "# 53 Create a NumPy array arr1 with random integers and another array arr2 with integers from 1 to 5. Perform element-wise multiplication between arr1 and arr2:\n",
    "\n",
    "arr1 = np.random.randint(1, 100, size=5)\n",
    "arr2 = np.arange(1, 6)\n",
    "product_array = arr1 * arr2\n",
    "print(product_array)"
   ]
  },
  {
   "cell_type": "code",
   "execution_count": 61,
   "metadata": {},
   "outputs": [
    {
     "name": "stdout",
     "output_type": "stream",
     "text": [
      "[2. 2. 2. 2. 2.]\n"
     ]
    }
   ],
   "source": [
    "# 54 Generate a NumPy array arr1 with even integers from 2 to 10 and another array arr2 with integers from 1 to 5. Perform element-wise division of arr1 by arr2:\n",
    "\n",
    "arr1 = np.arange(2, 11, 2)\n",
    "arr2 = np.arange(1, 6)\n",
    "div_array = arr1 / arr2\n",
    "print(div_array)\n"
   ]
  },
  {
   "cell_type": "code",
   "execution_count": 62,
   "metadata": {},
   "outputs": [
    {
     "name": "stdout",
     "output_type": "stream",
     "text": [
      "[ 1 16 27 16  5]\n"
     ]
    }
   ],
   "source": [
    "# 55 Create a NumPy array arr1 with integers from 1 to 5 and another array arr2 with the same numbers reversed. Calculate the exponentiation of arr1 raised to the power of arr2 element-wise:\n",
    "\n",
    "arr1 = np.arange(1, 6)\n",
    "arr2 = arr1[::-1]\n",
    "exp_array = arr1 ** arr2\n",
    "print(exp_array)\n"
   ]
  },
  {
   "cell_type": "code",
   "execution_count": 63,
   "metadata": {},
   "outputs": [
    {
     "name": "stdout",
     "output_type": "stream",
     "text": [
      "[1 0 1 0 1]\n"
     ]
    }
   ],
   "source": [
    "# 56 Write a function that counts the occurrences of a specific substring within a NumPy array of strings:\n",
    "\n",
    "def count_substring_occurrences(arr, substring):\n",
    "    return np.char.count(arr, substring)\n",
    "\n",
    "arr = np.array(['hello', 'world', 'hello', 'numpy', 'hello'])\n",
    "substring_count = count_substring_occurrences(arr, 'hello')\n",
    "print(substring_count)"
   ]
  },
  {
   "cell_type": "code",
   "execution_count": 65,
   "metadata": {},
   "outputs": [
    {
     "name": "stdout",
     "output_type": "stream",
     "text": [
      "['D' 'S' 'M' 'L' 'N' 'P' 'P']\n"
     ]
    }
   ],
   "source": [
    "#  57 Extract uppercase characters from NumPy array of strings\n",
    "\n",
    "\n",
    "def extract_uppercase_chars(arr):\n",
    "    \n",
    "    char_array = np.char.array(arr).view('U1')\n",
    "   \n",
    "    flattened = char_array.flatten()\n",
    "   \n",
    "    uppercase_chars = flattened[np.char.isupper(flattened)]\n",
    "    return uppercase_chars\n",
    "\n",
    "arr = np.array(['DataScience', 'MachineLearning', 'NumPy', 'Python'])\n",
    "uppercase_chars = extract_uppercase_chars(arr)\n",
    "print(uppercase_chars)\n"
   ]
  },
  {
   "cell_type": "code",
   "execution_count": 66,
   "metadata": {},
   "outputs": [
    {
     "name": "stdout",
     "output_type": "stream",
     "text": [
      "['fruit' 'banana' 'grape' 'pinefruit']\n"
     ]
    }
   ],
   "source": [
    "# 58 Write a function that replaces occurrences of a substring in a NumPy array of strings with a new string:\n",
    "\n",
    "def replace_substring(arr, old_substring, new_substring):\n",
    "    return np.char.replace(arr, old_substring, new_substring)\n",
    "\n",
    "arr = np.array(['apple', 'banana', 'grape', 'pineapple'])\n",
    "replaced_array = replace_substring(arr, 'apple', 'fruit')\n",
    "print(replaced_array)\n"
   ]
  },
  {
   "cell_type": "code",
   "execution_count": 68,
   "metadata": {},
   "outputs": [
    {
     "name": "stdout",
     "output_type": "stream",
     "text": [
      "['numpymachine' 'pandaslearning']\n"
     ]
    }
   ],
   "source": [
    "# 59 Write a function that concatenates strings in a NumPy array element-wise:\n",
    "\n",
    "def concatenate_strings(arr1, arr2):\n",
    "    return np.char.add(arr1, arr2)\n",
    "\n",
    "arr1 = np.array(['numpy', 'pandas'])\n",
    "arr2 = np.array(['machine', 'learning'])\n",
    "concatenated_array = concatenate_strings(arr1, arr2)\n",
    "print(concatenated_array)\n"
   ]
  },
  {
   "cell_type": "code",
   "execution_count": 69,
   "metadata": {},
   "outputs": [
    {
     "name": "stdout",
     "output_type": "stream",
     "text": [
      "9\n"
     ]
    }
   ],
   "source": [
    "# 60 Write a function that finds the length of the longest string in a NumPy array:\n",
    "\n",
    "def find_longest_string_length(arr):\n",
    "    return np.max(np.char.str_len(arr))\n",
    "\n",
    "arr = np.array(['apple', 'banana', 'grape', 'pineapple'])\n",
    "longest_length = find_longest_string_length(arr)\n",
    "print(longest_length)"
   ]
  },
  {
   "cell_type": "code",
   "execution_count": 70,
   "metadata": {},
   "outputs": [
    {
     "name": "stdout",
     "output_type": "stream",
     "text": [
      "Mean: 518.6, Median: 518.5, Variance: 87180.34000000003, Standard Deviation: 295.2631707477247\n"
     ]
    }
   ],
   "source": [
    "# 61 Create a dataset of 100 random integers between 1 and 1000. Compute the mean, median, variance, and standard deviation of the dataset using NumPy's functions:\n",
    "\n",
    "data = np.random.randint(1, 1001, size=100)\n",
    "mean = np.mean(data)\n",
    "median = np.median(data)\n",
    "variance = np.var(data)\n",
    "std_dev = np.std(data)\n",
    "print(f\"Mean: {mean}, Median: {median}, Variance: {variance}, Standard Deviation: {std_dev}\")"
   ]
  },
  {
   "cell_type": "code",
   "execution_count": 71,
   "metadata": {},
   "outputs": [
    {
     "name": "stdout",
     "output_type": "stream",
     "text": [
      "25th Percentile: 24.75, 75th Percentile: 77.5\n"
     ]
    }
   ],
   "source": [
    "# 62 Generate an array of 50 random numbers between 1 and 100. Find the 25th and 75th percentiles of the dataset:\n",
    "\n",
    "\n",
    "data = np.random.randint(1, 101, size=50)\n",
    "percentile_25 = np.percentile(data, 25)\n",
    "percentile_75 = np.percentile(data, 75)\n",
    "print(f\"25th Percentile: {percentile_25}, 75th Percentile: {percentile_75}\")"
   ]
  },
  {
   "cell_type": "code",
   "execution_count": 72,
   "metadata": {},
   "outputs": [
    {
     "name": "stdout",
     "output_type": "stream",
     "text": [
      "[[ 1.         -0.37661035]\n",
      " [-0.37661035  1.        ]]\n"
     ]
    }
   ],
   "source": [
    "# 63 Create two arrays representing two sets of variables. Compute the correlation coefficient between these arrays using NumPy's corrcoef function:\n",
    "\n",
    "arr1 = np.random.randint(1, 100, size=10)\n",
    "arr2 = np.random.randint(1, 100, size=10)\n",
    "correlation = np.corrcoef(arr1, arr2)\n",
    "print(correlation)\n"
   ]
  },
  {
   "cell_type": "code",
   "execution_count": 73,
   "metadata": {},
   "outputs": [
    {
     "name": "stdout",
     "output_type": "stream",
     "text": [
      "[[ 50  97  13]\n",
      " [ 55 106  14]\n",
      " [ 24  46   6]]\n"
     ]
    }
   ],
   "source": [
    "# 64 Create two matrices and perform matrix multiplication using NumPy's dot function:\n",
    "\n",
    "matrix1 = np.random.randint(1, 10, size=(3, 2))\n",
    "matrix2 = np.random.randint(1, 10, size=(2, 3))\n",
    "product_matrix = np.dot(matrix1, matrix2)\n",
    "print(product_matrix)"
   ]
  },
  {
   "cell_type": "code",
   "execution_count": 74,
   "metadata": {},
   "outputs": [
    {
     "name": "stdout",
     "output_type": "stream",
     "text": [
      "10th Percentile: 182.3, Median: 527.0, 90th Percentile: 876.3000000000001, Q1: 281.75, Q3: 763.0\n"
     ]
    }
   ],
   "source": [
    "# 65 Create an array of 50 integers between 10 and 1000. Calculate the 10th, 50th (median), and 90th percentiles along with the first and third quartiles:\n",
    "\n",
    "\n",
    "data = np.random.randint(10, 1001, size=50)\n",
    "percentile_10 = np.percentile(data, 10)\n",
    "median = np.median(data)\n",
    "percentile_90 = np.percentile(data, 90)\n",
    "first_quartile = np.percentile(data, 25)\n",
    "third_quartile = np.percentile(data, 75)\n",
    "print(f\"10th Percentile: {percentile_10}, Median: {median}, 90th Percentile: {percentile_90}, Q1: {first_quartile}, Q3: {third_quartile}\")"
   ]
  },
  {
   "cell_type": "code",
   "execution_count": 75,
   "metadata": {},
   "outputs": [
    {
     "name": "stdout",
     "output_type": "stream",
     "text": [
      "(array([2]),)\n"
     ]
    }
   ],
   "source": [
    "# 66 Create a NumPy array of integers and find the index of a specific element:\n",
    "\n",
    "arr = np.array([10, 20, 30, 40, 50])\n",
    "index = np.where(arr == 30)\n",
    "print(index)\n"
   ]
  },
  {
   "cell_type": "code",
   "execution_count": 76,
   "metadata": {},
   "outputs": [
    {
     "name": "stdout",
     "output_type": "stream",
     "text": [
      "[ 1 18 28 44 61 61 72 77 80 98]\n"
     ]
    }
   ],
   "source": [
    "# 67 Generate a random NumPy array and sort it in ascending order:\n",
    "\n",
    "arr = np.random.randint(1, 100, size=10)\n",
    "sorted_arr = np.sort(arr)\n",
    "print(sorted_arr)\n"
   ]
  },
  {
   "cell_type": "code",
   "execution_count": 77,
   "metadata": {},
   "outputs": [
    {
     "name": "stdout",
     "output_type": "stream",
     "text": [
      "[25 42 30]\n"
     ]
    }
   ],
   "source": [
    "# 68 Filter elements > 20 in the given NumPy array:\n",
    "\n",
    "arr = np.array([12, 25, 6, 42, 8, 30])\n",
    "filtered_arr = arr[arr > 20]\n",
    "print(filtered_arr)"
   ]
  },
  {
   "cell_type": "code",
   "execution_count": 78,
   "metadata": {},
   "outputs": [
    {
     "name": "stdout",
     "output_type": "stream",
     "text": [
      "[12 15]\n"
     ]
    }
   ],
   "source": [
    "# 69 Filter elements which are divisible by 3 from a given NumPy array:\n",
    "\n",
    "arr = np.array([1, 5, 8, 12, 15])\n",
    "divisible_by_3 = arr[arr % 3 == 0]\n",
    "print(divisible_by_3)"
   ]
  },
  {
   "cell_type": "code",
   "execution_count": 79,
   "metadata": {},
   "outputs": [
    {
     "name": "stdout",
     "output_type": "stream",
     "text": [
      "[20 30 40]\n"
     ]
    }
   ],
   "source": [
    "# 70 Filter elements which are ≥ 20 and ≤ 40 from a given NumPy array:\n",
    "\n",
    "arr = np.array([10, 20, 30, 40, 50])\n",
    "filtered_arr = arr[(arr >= 20) & (arr <= 40)]\n",
    "print(filtered_arr)\n"
   ]
  },
  {
   "cell_type": "code",
   "execution_count": 80,
   "metadata": {},
   "outputs": [
    {
     "name": "stdout",
     "output_type": "stream",
     "text": [
      "=\n"
     ]
    }
   ],
   "source": [
    "#  71 Check byte order of array\n",
    "import numpy as np\n",
    "\n",
    "arr = np.array([1, 2, 3])\n",
    "print(arr.dtype.byteorder)\n"
   ]
  },
  {
   "cell_type": "code",
   "execution_count": 81,
   "metadata": {},
   "outputs": [
    {
     "name": "stdout",
     "output_type": "stream",
     "text": [
      "[16777216 33554432 50331648]\n"
     ]
    }
   ],
   "source": [
    "#  72`` Perform byte swapping in place\n",
    "import numpy as np\n",
    "\n",
    "arr = np.array([1, 2, 3], dtype=np.int32)\n",
    "arr.byteswap(inplace=True)\n",
    "print(arr)\n"
   ]
  },
  {
   "cell_type": "code",
   "execution_count": 82,
   "metadata": {},
   "outputs": [
    {
     "name": "stdout",
     "output_type": "stream",
     "text": [
      "[16777216 33554432 50331648]\n",
      "[1 2 3]\n"
     ]
    }
   ],
   "source": [
    "#  73 Swap byte order without modifying original array\n",
    "import numpy as np\n",
    "\n",
    "arr = np.array([1, 2, 3], dtype=np.int32)\n",
    "swapped_arr = arr.newbyteorder()\n",
    "print(swapped_arr)\n",
    "print(arr)  # Original array remains unchanged\n"
   ]
  },
  {
   "cell_type": "code",
   "execution_count": 83,
   "metadata": {},
   "outputs": [
    {
     "name": "stdout",
     "output_type": "stream",
     "text": [
      "[16777216 33554432 50331648]\n"
     ]
    }
   ],
   "source": [
    "#  74 Swap byte order based on system endianness\n",
    "import numpy as np\n",
    "\n",
    "arr = np.array([1, 2, 3], dtype=np.int32)\n",
    "if arr.dtype.byteorder == '=':  # System's native byte order\n",
    "    swapped_arr = arr.newbyteorder()\n",
    "else:\n",
    "    swapped_arr = arr\n",
    "\n",
    "print(swapped_arr)\n"
   ]
  },
  {
   "cell_type": "code",
   "execution_count": 84,
   "metadata": {},
   "outputs": [
    {
     "name": "stdout",
     "output_type": "stream",
     "text": [
      "False\n"
     ]
    }
   ],
   "source": [
    "#  75 Check if byte swapping is necessary\n",
    "import numpy as np\n",
    "\n",
    "arr = np.array([1, 2, 3], dtype=np.int32)\n",
    "byte_order = arr.dtype.byteorder\n",
    "is_swapping_needed = byte_order == '>'\n",
    "print(is_swapping_needed)\n"
   ]
  },
  {
   "cell_type": "code",
   "execution_count": 85,
   "metadata": {},
   "outputs": [
    {
     "name": "stdout",
     "output_type": "stream",
     "text": [
      "[100   2  10]\n",
      "[ 1  2 10]\n"
     ]
    }
   ],
   "source": [
    "#  76 Create copy of array and modify element\n",
    "import numpy as np\n",
    "\n",
    "arr1 = np.array([1, 2, 10])\n",
    "copy_arr = arr1.copy()\n",
    "copy_arr[0] = 100\n",
    "print(copy_arr)\n",
    "print(arr1)  # Original array remains unchanged\n"
   ]
  },
  {
   "cell_type": "code",
   "execution_count": 86,
   "metadata": {},
   "outputs": [
    {
     "name": "stdout",
     "output_type": "stream",
     "text": [
      "[[  6 999   7]\n",
      " [  8   7   9]\n",
      " [  4   5   3]]\n"
     ]
    }
   ],
   "source": [
    "#  77 Extract slice from 2D array and modify element\n",
    "import numpy as np\n",
    "\n",
    "matrix = np.random.randint(0, 10, size=(3, 3))\n",
    "view_slice = matrix[:, 1]\n",
    "view_slice[0] = 999\n",
    "print(matrix)  # Original array reflects changes\n"
   ]
  },
  {
   "cell_type": "code",
   "execution_count": 87,
   "metadata": {},
   "outputs": [
    {
     "name": "stdout",
     "output_type": "stream",
     "text": [
      "[[ 6  7  3]\n",
      " [ 9 10  6]\n",
      " [12 13  9]\n",
      " [15 16 12]]\n"
     ]
    }
   ],
   "source": [
    "#  78 Broadcast addition to slice and check if original array is altered\n",
    "import numpy as np\n",
    "\n",
    "array_a = np.arange(1, 13).reshape((4, 3))\n",
    "view_b = array_a[:, :2]\n",
    "view_b += 5\n",
    "print(array_a)  # Original array reflects changes\n"
   ]
  },
  {
   "cell_type": "code",
   "execution_count": 88,
   "metadata": {},
   "outputs": [
    {
     "name": "stdout",
     "output_type": "stream",
     "text": [
      "[[999   2   3   4]\n",
      " [  5   6   7   8]]\n"
     ]
    }
   ],
   "source": [
    "#  79 Create reshaped view and modify element\n",
    "import numpy as np\n",
    "\n",
    "orig_array = np.arange(1, 9).reshape((2, 4))\n",
    "reshaped_view = orig_array.reshape((4, 2))\n",
    "reshaped_view[0, 0] = 999\n",
    "print(orig_array)  # Original array reflects changes\n"
   ]
  },
  {
   "cell_type": "code",
   "execution_count": 89,
   "metadata": {},
   "outputs": [
    {
     "name": "stdout",
     "output_type": "stream",
     "text": [
      "[[4 6 9 3]\n",
      " [6 6 1 7]\n",
      " [0 2 1 3]]\n"
     ]
    }
   ],
   "source": [
    "#  80 Extract copy of elements > 5 and modify it\n",
    "import numpy as np\n",
    "\n",
    "data = np.random.randint(0, 10, size=(3, 4))\n",
    "data_copy = data[data > 5].copy()\n",
    "if data_copy.size > 0:\n",
    "    data_copy[0] = 999\n",
    "print(data)  # Original array remains unchanged\n"
   ]
  },
  {
   "cell_type": "code",
   "execution_count": 90,
   "metadata": {},
   "outputs": [
    {
     "name": "stdout",
     "output_type": "stream",
     "text": [
      "Sum:\n",
      " [[ 3 12 11]\n",
      " [ 8  8  9]\n",
      " [ 0  9  9]]\n",
      "Difference:\n",
      " [[ 1  4  5]\n",
      " [-6  0  1]\n",
      " [ 0  1  9]]\n"
     ]
    }
   ],
   "source": [
    "#  81 Perform addition and subtraction between two matrices\n",
    "import numpy as np\n",
    "\n",
    "A = np.random.randint(0, 10, size=(3, 3))\n",
    "B = np.random.randint(0, 10, size=(3, 3))\n",
    "sum_matrix = A + B\n",
    "diff_matrix = A - B\n",
    "print(\"Sum:\\n\", sum_matrix)\n",
    "print(\"Difference:\\n\", diff_matrix)\n"
   ]
  },
  {
   "cell_type": "code",
   "execution_count": 91,
   "metadata": {},
   "outputs": [
    {
     "name": "stdout",
     "output_type": "stream",
     "text": [
      "[[20 66 16 26]\n",
      " [20 36 11 46]\n",
      " [14 27  8 31]]\n"
     ]
    }
   ],
   "source": [
    "#  82 Perform matrix multiplication\n",
    "import numpy as np\n",
    "\n",
    "C = np.random.randint(0, 10, size=(3, 2))\n",
    "D = np.random.randint(0, 10, size=(2, 4))\n",
    "result = np.dot(C, D)\n",
    "print(result)\n"
   ]
  },
  {
   "cell_type": "code",
   "execution_count": 92,
   "metadata": {},
   "outputs": [
    {
     "name": "stdout",
     "output_type": "stream",
     "text": [
      "[[0 9 8]\n",
      " [3 0 0]\n",
      " [8 9 3]]\n"
     ]
    }
   ],
   "source": [
    "#  83 Find transpose of a matrix\n",
    "import numpy as np\n",
    "\n",
    "E = np.random.randint(0, 10, size=(3, 3))\n",
    "transpose_E = E.T\n",
    "print(transpose_E)\n"
   ]
  },
  {
   "cell_type": "code",
   "execution_count": 93,
   "metadata": {},
   "outputs": [
    {
     "name": "stdout",
     "output_type": "stream",
     "text": [
      "122.99999999999994\n"
     ]
    }
   ],
   "source": [
    "#  84 Compute determinant of a square matrix\n",
    "import numpy as np\n",
    "\n",
    "F = np.random.randint(0, 10, size=(3, 3))\n",
    "det_F = np.linalg.det(F)\n",
    "print(det_F)\n"
   ]
  },
  {
   "cell_type": "code",
   "execution_count": 94,
   "metadata": {},
   "outputs": [
    {
     "name": "stdout",
     "output_type": "stream",
     "text": [
      "248.00000000000009\n"
     ]
    }
   ],
   "source": [
    "#  84 Compute determinant of a square matrix\n",
    "import numpy as np\n",
    "\n",
    "F = np.random.randint(0, 10, size=(3, 3))\n",
    "det_F = np.linalg.det(F)\n",
    "print(det_F)\n"
   ]
  },
  {
   "cell_type": "code",
   "execution_count": 95,
   "metadata": {},
   "outputs": [
    {
     "name": "stdout",
     "output_type": "stream",
     "text": [
      "[[ 0.23529412 -0.64705882  0.05882353]\n",
      " [-0.12941176  0.70588235 -0.08235294]\n",
      " [-0.08235294  0.17647059  0.12941176]]\n"
     ]
    }
   ],
   "source": [
    "#  85 Find inverse of a square matrix\n",
    "import numpy as np\n",
    "\n",
    "G = np.random.randint(1, 10, size=(3, 3))\n",
    "inverse_G = np.linalg.inv(G)\n",
    "print(inverse_G)\n"
   ]
  },
  {
   "cell_type": "code",
   "execution_count": null,
   "metadata": {},
   "outputs": [],
   "source": []
  }
 ],
 "metadata": {
  "kernelspec": {
   "display_name": "Python 3",
   "language": "python",
   "name": "python3"
  },
  "language_info": {
   "codemirror_mode": {
    "name": "ipython",
    "version": 3
   },
   "file_extension": ".py",
   "mimetype": "text/x-python",
   "name": "python",
   "nbconvert_exporter": "python",
   "pygments_lexer": "ipython3",
   "version": "3.9.6"
  }
 },
 "nbformat": 4,
 "nbformat_minor": 2
}
