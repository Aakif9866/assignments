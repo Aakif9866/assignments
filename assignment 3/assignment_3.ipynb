{
 "cells": [
  {
   "cell_type": "code",
   "execution_count": 3,
   "metadata": {},
   "outputs": [
    {
     "name": "stdout",
     "output_type": "stream",
     "text": [
      "This is the new text in example.txt\n"
     ]
    }
   ],
   "source": [
    "#1  code to read the contents of a file\n",
    "with open('example.txt', 'r') as file:\n",
    "    contents = file.read()\n",
    "    print(contents)\n"
   ]
  },
  {
   "cell_type": "code",
   "execution_count": 2,
   "metadata": {},
   "outputs": [],
   "source": [
    "#2 code to write to a file in python\n",
    "\n",
    "with open('example.txt', 'w') as file:\n",
    "    file.write('This is the new text in example.txt')"
   ]
  },
  {
   "cell_type": "code",
   "execution_count": 4,
   "metadata": {},
   "outputs": [],
   "source": [
    "#3  Code to Append to a File in Python\n",
    "\n",
    "with open('example.txt', 'a') as file:\n",
    "    file.write('\\nThis text will be appended.')\n",
    " "
   ]
  },
  {
   "cell_type": "code",
   "execution_count": 6,
   "metadata": {},
   "outputs": [
    {
     "name": "stdout",
     "output_type": "stream",
     "text": [
      "b'hello welcome'\n"
     ]
    }
   ],
   "source": [
    "#4 code to read a binary file in python\n",
    "# Reading a binary file\n",
    "with open('example.bin', 'rb') as file:\n",
    "    binary_data = file.read()\n",
    "    print(binary_data)"
   ]
  },
  {
   "cell_type": "code",
   "execution_count": 7,
   "metadata": {},
   "outputs": [
    {
     "name": "stdout",
     "output_type": "stream",
     "text": [
      "This is the new text in example.txt\n",
      "This text will be appended.\n"
     ]
    }
   ],
   "source": [
    "#5 what happens if we dont use \"with\" keyword with \"open\" in python\n",
    "\n",
    "\n",
    "# If you don't use the with keyword when opening a file,\n",
    "# you need to manually close the file using\n",
    "# the close method. Otherwise, the file might \n",
    "# remain open, which can lead to resource leaks and locked files. Here’s an example:\n",
    "\n",
    "\n",
    "# Without using the with keyword\n",
    "file = open('example.txt', 'r')\n",
    "try:\n",
    "    contents = file.read()\n",
    "    print(contents)\n",
    "finally:\n",
    "    file.close()\n",
    "\n"
   ]
  },
  {
   "cell_type": "code",
   "execution_count": 8,
   "metadata": {},
   "outputs": [],
   "source": [
    "#6  Explain the Concept of Buffering in File Handling and How It Helps in Improving Read and Write Operations\n",
    "\n",
    "# Buffering in file handling refers to the temporary storage of data in a buffer while it's being transferred between the program and the file. This mechanism improves the efficiency of read and write operations by reducing the number of system calls.\n",
    "\n",
    "# Types of Buffering:\n",
    "# Full Buffering: Data is stored in the buffer until it is full. This mode is typically used for files.\n",
    "# Line Buffering: Data is stored in the buffer until a newline character is encountered. This mode is usually used for text files.\n",
    "# No Buffering: Data is directly written or read from the file. This is the slowest mode but might be necessary for real-time requirements.\n",
    "\n",
    "\n",
    "# How Buffering Helps:\n",
    "# Reduces I/O Operations: By minimizing the number of read and write operations to the disk, buffering reduces the overhead and increases performance.\n",
    "# Improves Speed: Buffering allows for more efficient use of resources, improving the speed of file operations.\n",
    "# Smoother Operation: It allows programs to run more smoothly without waiting for each I/O operation to complete before proceeding.\n",
    "\n"
   ]
  },
  {
   "cell_type": "code",
   "execution_count": 9,
   "metadata": {},
   "outputs": [],
   "source": [
    "#7 steps involved in implementing file handling\n",
    "\n",
    "# using buffer\n",
    "# 4 steps \n",
    "# Open the File: Use an appropriate mode (e.g., read, write) and specify the buffering behavior.\n",
    "# Read/Write Operations: Perform file operations while the buffer temporarily stores data.\n",
    "# Flush Buffer: Ensure that data in the buffer is written to the file.\n",
    "# Close the File: Close the file to release resources.\n",
    "\n"
   ]
  },
  {
   "cell_type": "code",
   "execution_count": 10,
   "metadata": {},
   "outputs": [
    {
     "name": "stdout",
     "output_type": "stream",
     "text": [
      "This is the new text in example.txt\n",
      "This text will be appended.\n"
     ]
    }
   ],
   "source": [
    "# 8 read a text file using buffered reading\n",
    "def read_file_buffered(file_path):\n",
    "    buffer_size = 1024  # 1KB buffer size\n",
    "    with open(file_path, 'r', buffering=buffer_size) as file:\n",
    "        contents = file.read()\n",
    "    return contents\n",
    "\n",
    "# Example usage\n",
    "contents = read_file_buffered('example.txt')\n",
    "print(contents)\n",
    "\n"
   ]
  },
  {
   "cell_type": "code",
   "execution_count": 16,
   "metadata": {},
   "outputs": [],
   "source": [
    "# 9 advantages of using buffered reading over \n",
    "\n",
    "# direct file reading in python\n",
    "\n",
    "# Efficiency: Reduces the number of I/O operations.\n",
    "\n",
    "# Performance: Increases speed by minimizing read/write system calls.\n",
    "\n",
    "# Resource Management: Efficient use of memory and processor resources.\n",
    "\n"
   ]
  },
  {
   "cell_type": "code",
   "execution_count": 17,
   "metadata": {},
   "outputs": [],
   "source": [
    "# 10. Write a Python Code Snippet to Append Content to a File Using Buffered Writing\n",
    "\n",
    "def append_to_file_buffered(file_path, content):\n",
    "    buffer_size = 1024  # 1KB buffer size\n",
    "    with open(file_path, 'a', buffering=buffer_size) as file:\n",
    "        file.write(content)\n",
    "\n",
    "# Example usage\n",
    "append_to_file_buffered('example.txt', '\\nAppended content with buffering.\\n')\n"
   ]
  },
  {
   "cell_type": "code",
   "execution_count": 18,
   "metadata": {},
   "outputs": [
    {
     "name": "stdout",
     "output_type": "stream",
     "text": [
      "This is the new text in example.txt\n",
      "This text will be appended.\n",
      "\n",
      "Appended content with buffering.\n",
      "\n",
      "Appended content with buffering.\n",
      "\n"
     ]
    }
   ],
   "source": [
    "# 11. Write a Python Function that Demonstrates the Use of close() Method on a File\n",
    "\n",
    "def demonstrate_close(file_path):\n",
    "    file = open(file_path, 'r')\n",
    "    try:\n",
    "        contents = file.read()\n",
    "        print(contents)\n",
    "    finally:\n",
    "        file.close()\n",
    "\n",
    "demonstrate_close('example.txt')"
   ]
  },
  {
   "cell_type": "code",
   "execution_count": 20,
   "metadata": {},
   "outputs": [
    {
     "name": "stdout",
     "output_type": "stream",
     "text": [
      "<_io.BufferedReader name='example.txt'>\n"
     ]
    }
   ],
   "source": [
    "#12. Create a Python Function to Showcase the detach() Method on a File Object\n",
    "\n",
    "def demonstrate_detach(file_path):\n",
    "    file = open(file_path, 'r')\n",
    "    buffer = file.detach()\n",
    "    print(buffer)\n",
    "    buffer.close()\n",
    "\n",
    "# Example usage\n",
    "demonstrate_detach('example.txt')\n"
   ]
  },
  {
   "cell_type": "code",
   "execution_count": 24,
   "metadata": {},
   "outputs": [
    {
     "name": "stdout",
     "output_type": "stream",
     "text": [
      "ppended content with buffering.\n",
      "\n"
     ]
    }
   ],
   "source": [
    "# 13 Write a Python Function to Demonstrate the Use of the seek() Method to Change the File Position\n",
    "\n",
    "\n",
    "def demonstrate_seek(file_path):\n",
    "    with open(file_path, 'r') as file:\n",
    "        file.seek(100)  # Move to the 10th byte\n",
    "        print(file.read())  # Read from the new position\n",
    "\n",
    "# Example usage\n",
    "demonstrate_seek('example.txt')\n",
    "\n"
   ]
  },
  {
   "cell_type": "code",
   "execution_count": 25,
   "metadata": {},
   "outputs": [
    {
     "name": "stdout",
     "output_type": "stream",
     "text": [
      "File descriptor: 74\n"
     ]
    }
   ],
   "source": [
    "# 14 Create a Python Function to Return the File Descriptor (Integer Number) of a File Using the fileno() Method\n",
    "\n",
    "def get_file_descriptor(file_path):\n",
    "    with open(file_path, 'r') as file:\n",
    "        return file.fileno()\n",
    "\n",
    "# Example usage\n",
    "fd = get_file_descriptor('example.txt')\n",
    "print(f'File descriptor: {fd}')\n"
   ]
  },
  {
   "cell_type": "code",
   "execution_count": 27,
   "metadata": {},
   "outputs": [
    {
     "name": "stdout",
     "output_type": "stream",
     "text": [
      "Current file position: 10\n"
     ]
    }
   ],
   "source": [
    "# 15. Write a Python Function to Return the Current Position of the File's Object Using the tell() Method\n",
    "\n",
    "def get_file_position(file_path):\n",
    "    with open(file_path, 'r') as file:\n",
    "        file.read(10)  # Read first 10 bytes\n",
    "        return file.tell()\n",
    "\n",
    "# Example usage\n",
    "position = get_file_position('example.txt')\n",
    "print(f'Current file position: {position}')\n"
   ]
  },
  {
   "cell_type": "code",
   "execution_count": 28,
   "metadata": {},
   "outputs": [],
   "source": [
    "# 16 Create a Python Program That Logs a Message to a File Using the logging Module\n",
    "import logging\n",
    "\n",
    "def log_message():\n",
    "    logging.basicConfig(filename='logfile.log', level=logging.INFO)\n",
    "    logging.info('This is an informational message.')\n",
    "\n",
    "# Example usage\n",
    "log_message()\n",
    "\n"
   ]
  },
  {
   "cell_type": "code",
   "execution_count": 29,
   "metadata": {},
   "outputs": [],
   "source": [
    "#17. Explain the Importance of Logging Levels in Python's Logging Module\n",
    "\n",
    "# DEBUG: Detailed diagnostic information for debugging.\n",
    "\n",
    "# INFO: Confirmation that things are working as expected.\n",
    "\n",
    "# WARNING: An indication that something unexpected happened, or indicative of some problem in the near future.\n",
    "\n",
    "# ERROR: Due to a more serious problem, the software has not been able to perform some function.\n",
    "\n",
    "# CRITICAL: A very serious error, indicating that the program itself may be unable to continue running.\n"
   ]
  },
  {
   "cell_type": "code",
   "execution_count": 30,
   "metadata": {},
   "outputs": [
    {
     "name": "stdout",
     "output_type": "stream",
     "text": [
      "--Return--\n",
      "None\n",
      "> \u001b[0;32m/var/folders/jl/653x1f1n6px6ntjl_l6g6zt00000gn/T/ipykernel_2091/910758041.py\u001b[0m(11)\u001b[0;36m<module>\u001b[0;34m()\u001b[0m\n",
      "\u001b[0;32m      9 \u001b[0;31m\u001b[0;34m\u001b[0m\u001b[0m\n",
      "\u001b[0m\u001b[0;32m     10 \u001b[0;31m\u001b[0;31m# Example usage with a debugger tool like `pdb`\u001b[0m\u001b[0;34m\u001b[0m\u001b[0;34m\u001b[0m\u001b[0;34m\u001b[0m\u001b[0m\n",
      "\u001b[0m\u001b[0;32m---> 11 \u001b[0;31m\u001b[0;32mimport\u001b[0m \u001b[0mpdb\u001b[0m\u001b[0;34m;\u001b[0m \u001b[0mpdb\u001b[0m\u001b[0;34m.\u001b[0m\u001b[0mset_trace\u001b[0m\u001b[0;34m(\u001b[0m\u001b[0;34m)\u001b[0m\u001b[0;34m\u001b[0m\u001b[0;34m\u001b[0m\u001b[0m\n",
      "\u001b[0m\u001b[0;32m     12 \u001b[0;31m\u001b[0mdebug_loop\u001b[0m\u001b[0;34m(\u001b[0m\u001b[0;34m)\u001b[0m\u001b[0;34m\u001b[0m\u001b[0;34m\u001b[0m\u001b[0m\n",
      "\u001b[0m\u001b[0;32m     13 \u001b[0;31m\u001b[0;34m\u001b[0m\u001b[0m\n",
      "\u001b[0m\n"
     ]
    }
   ],
   "source": [
    "# 18. Create a Python Program That Uses the Debugger to Find the Value of a Variable Inside a Loop\n",
    "\n",
    "\n",
    "def debug_loop():\n",
    "    for i in range(5):\n",
    "        x = i * 2\n",
    "        print(f'x = {x}')\n",
    "        # Place a breakpoint here\n",
    "\n",
    "# Example usage with a debugger tool like `pdb`\n",
    "import pdb; pdb.set_trace()\n",
    "debug_loop()\n",
    "\n"
   ]
  },
  {
   "cell_type": "code",
   "execution_count": 1,
   "metadata": {},
   "outputs": [
    {
     "name": "stdout",
     "output_type": "stream",
     "text": [
      "--Return--\n",
      "None\n",
      "> \u001b[0;32m/var/folders/jl/653x1f1n6px6ntjl_l6g6zt00000gn/T/ipykernel_2324/3813426937.py\u001b[0m(10)\u001b[0;36m<module>\u001b[0;34m()\u001b[0m\n",
      "\u001b[0;32m      8 \u001b[0;31m\u001b[0;34m\u001b[0m\u001b[0m\n",
      "\u001b[0m\u001b[0;32m      9 \u001b[0;31m\u001b[0;31m# Example usage with a debugger tool like `pdb`\u001b[0m\u001b[0;34m\u001b[0m\u001b[0;34m\u001b[0m\u001b[0;34m\u001b[0m\u001b[0m\n",
      "\u001b[0m\u001b[0;32m---> 10 \u001b[0;31m\u001b[0;32mimport\u001b[0m \u001b[0mpdb\u001b[0m\u001b[0;34m;\u001b[0m \u001b[0mpdb\u001b[0m\u001b[0;34m.\u001b[0m\u001b[0mset_trace\u001b[0m\u001b[0;34m(\u001b[0m\u001b[0;34m)\u001b[0m\u001b[0;34m\u001b[0m\u001b[0;34m\u001b[0m\u001b[0m\n",
      "\u001b[0m\u001b[0;32m     11 \u001b[0;31m\u001b[0minspect_variables\u001b[0m\u001b[0;34m(\u001b[0m\u001b[0;34m)\u001b[0m\u001b[0;34m\u001b[0m\u001b[0;34m\u001b[0m\u001b[0m\n",
      "\u001b[0m\u001b[0;32m     12 \u001b[0;31m\u001b[0;34m\u001b[0m\u001b[0m\n",
      "\u001b[0m\n"
     ]
    }
   ],
   "source": [
    "# 19. Create a Python Program That Demonstrates Setting Breakpoints and Inspecting Variables Using the Debugger\n",
    "\n",
    "def inspect_variables():\n",
    "    for i in range(5):\n",
    "        y = i + 10\n",
    "        print(f'y = {y}')\n",
    "        # Place a breakpoint here\n",
    "\n",
    "# Example usage with a debugger tool like `pdb`\n",
    "import pdb; pdb.set_trace()\n",
    "inspect_variables()\n",
    "\n"
   ]
  },
  {
   "cell_type": "code",
   "execution_count": null,
   "metadata": {},
   "outputs": [],
   "source": [
    "# 20. Create a Python Program That Uses the Debugger to Trace a Recursive Function\n",
    "def factorial(n):\n",
    "    if n == 0:\n",
    "        return 1\n",
    "    else:\n",
    "        result = n * factorial(n - 1)\n",
    "        return result\n",
    "\n",
    "# Example usage with a debugger tool like `pdb`\n",
    "import pdb; pdb.set_trace()\n",
    "factorial(5)\n",
    "\n",
    "\n"
   ]
  },
  {
   "cell_type": "code",
   "execution_count": 1,
   "metadata": {},
   "outputs": [
    {
     "name": "stdout",
     "output_type": "stream",
     "text": [
      "Cannot divide by zero.\n"
     ]
    }
   ],
   "source": [
    "# 21. Write a Try-Except Block to Handle a ZeroDivisionError\n",
    "\n",
    "try:\n",
    "    result = 10 / 0\n",
    "except ZeroDivisionError:\n",
    "    print(\"Cannot divide by zero.\")\n",
    "\n"
   ]
  },
  {
   "cell_type": "code",
   "execution_count": 5,
   "metadata": {},
   "outputs": [],
   "source": [
    "# 22 How Does the else Block Work with Try-Except\n",
    "# The else block executes if no exceptions are raised in the try block.\n",
    "\n"
   ]
  },
  {
   "cell_type": "code",
   "execution_count": 6,
   "metadata": {},
   "outputs": [
    {
     "name": "stdout",
     "output_type": "stream",
     "text": [
      "This is the new text in example.txt\n",
      "This text will be appended.\n",
      "\n",
      "Appended content with buffering.\n",
      "\n",
      "Appended content with buffering.\n",
      "\n"
     ]
    }
   ],
   "source": [
    "# 23 Implement a Try-Except-Else Block to Open and Read a File\n",
    "\n",
    "def read_file(file_path):\n",
    "    try:\n",
    "        with open(file_path, 'r') as file:\n",
    "            contents = file.read()\n",
    "    except FileNotFoundError:\n",
    "        print(\"File not found.\")\n",
    "    else:\n",
    "        print(contents)\n",
    "\n",
    "# Example usage\n",
    "read_file('example.txt')\n"
   ]
  },
  {
   "cell_type": "code",
   "execution_count": 9,
   "metadata": {},
   "outputs": [],
   "source": [
    "# 24 What Is the Purpose of the finally Block in Exception Handling\n",
    "\n",
    "\n",
    "# The finally block executes regardless of whether an exception is raised or not, ensuring cleanup actions are performed."
   ]
  },
  {
   "cell_type": "code",
   "execution_count": 10,
   "metadata": {},
   "outputs": [
    {
     "name": "stdout",
     "output_type": "stream",
     "text": [
      "That's not a valid number.\n",
      "Execution complete.\n"
     ]
    }
   ],
   "source": [
    "# 25. Write a Try-Except-Finally Block to Handle a ValueError\n",
    "\n",
    "def handle_value_error(value):\n",
    "    try:\n",
    "        number = int(value)\n",
    "        print(f'The number is {number}')\n",
    "    except ValueError:\n",
    "        print(\"That's not a valid number.\")\n",
    "    finally:\n",
    "        print(\"Execution complete.\")\n",
    "\n",
    "# Example usage\n",
    "handle_value_error(\"abc\")\n",
    "\n"
   ]
  },
  {
   "cell_type": "code",
   "execution_count": 11,
   "metadata": {},
   "outputs": [
    {
     "name": "stdout",
     "output_type": "stream",
     "text": [
      "ValueError: Cannot convert to integer.\n"
     ]
    }
   ],
   "source": [
    "# 26. How Multiple Except Blocks Work in Python\n",
    "\n",
    "# Multiple except blocks allow you to handle different exceptions separately. Each except block can catch a different type of exception, and the appropriate block is executed based on the raised exception.\n",
    "\n",
    "try:\n",
    "    # Code that may raise exceptions\n",
    "    value = int(\"abc\")\n",
    "except ValueError:\n",
    "    print(\"ValueError: Cannot convert to integer.\")\n",
    "except TypeError:\n",
    "    print(\"TypeError: Incompatible type.\")\n",
    "\n"
   ]
  },
  {
   "cell_type": "code",
   "execution_count": 12,
   "metadata": {},
   "outputs": [],
   "source": [
    "# 27. What Is a Custom Exception in Python\n",
    "\n",
    "# A custom exception is a user-defined exception class that inherits from Python's built-in Exception class. It allows you to create meaningful error messages and handle specific error conditions in your program."
   ]
  },
  {
   "cell_type": "code",
   "execution_count": 13,
   "metadata": {},
   "outputs": [
    {
     "ename": "NegativeValueError",
     "evalue": "Value cannot be negative.",
     "output_type": "error",
     "traceback": [
      "\u001b[0;31m---------------------------------------------------------------------------\u001b[0m",
      "\u001b[0;31mNegativeValueError\u001b[0m                        Traceback (most recent call last)",
      "Cell \u001b[0;32mIn[13], line 9\u001b[0m\n\u001b[1;32m      6\u001b[0m         \u001b[38;5;28msuper\u001b[39m()\u001b[38;5;241m.\u001b[39m\u001b[38;5;21m__init__\u001b[39m(\u001b[38;5;28mself\u001b[39m\u001b[38;5;241m.\u001b[39mmessage)\n\u001b[1;32m      8\u001b[0m \u001b[38;5;66;03m# Example usage\u001b[39;00m\n\u001b[0;32m----> 9\u001b[0m \u001b[38;5;28;01mraise\u001b[39;00m NegativeValueError(\u001b[38;5;124m\"\u001b[39m\u001b[38;5;124mValue cannot be negative.\u001b[39m\u001b[38;5;124m\"\u001b[39m)\n",
      "\u001b[0;31mNegativeValueError\u001b[0m: Value cannot be negative."
     ]
    }
   ],
   "source": [
    "# 28. Create a Custom Exception Class with a Message\n",
    "\n",
    "class NegativeValueError(Exception):\n",
    "    def __init__(self, message):\n",
    "        self.message = message\n",
    "        super().__init__(self.message)\n",
    "\n",
    "# Example usage\n",
    "raise NegativeValueError(\"Value cannot be negative.\")"
   ]
  },
  {
   "cell_type": "code",
   "execution_count": 14,
   "metadata": {},
   "outputs": [
    {
     "ename": "CustomError",
     "evalue": "Negative value error.",
     "output_type": "error",
     "traceback": [
      "\u001b[0;31m---------------------------------------------------------------------------\u001b[0m",
      "\u001b[0;31mCustomError\u001b[0m                               Traceback (most recent call last)",
      "Cell \u001b[0;32mIn[14], line 13\u001b[0m\n\u001b[1;32m     10\u001b[0m         \u001b[38;5;28;01mraise\u001b[39;00m CustomError(\u001b[38;5;124m\"\u001b[39m\u001b[38;5;124mNegative value error.\u001b[39m\u001b[38;5;124m\"\u001b[39m)\n\u001b[1;32m     12\u001b[0m \u001b[38;5;66;03m# Example usage\u001b[39;00m\n\u001b[0;32m---> 13\u001b[0m \u001b[43mcheck_value\u001b[49m\u001b[43m(\u001b[49m\u001b[38;5;241;43m-\u001b[39;49m\u001b[38;5;241;43m5\u001b[39;49m\u001b[43m)\u001b[49m\n",
      "Cell \u001b[0;32mIn[14], line 10\u001b[0m, in \u001b[0;36mcheck_value\u001b[0;34m(value)\u001b[0m\n\u001b[1;32m      8\u001b[0m \u001b[38;5;28;01mdef\u001b[39;00m \u001b[38;5;21mcheck_value\u001b[39m(value):\n\u001b[1;32m      9\u001b[0m     \u001b[38;5;28;01mif\u001b[39;00m value \u001b[38;5;241m<\u001b[39m \u001b[38;5;241m0\u001b[39m:\n\u001b[0;32m---> 10\u001b[0m         \u001b[38;5;28;01mraise\u001b[39;00m CustomError(\u001b[38;5;124m\"\u001b[39m\u001b[38;5;124mNegative value error.\u001b[39m\u001b[38;5;124m\"\u001b[39m)\n",
      "\u001b[0;31mCustomError\u001b[0m: Negative value error."
     ]
    }
   ],
   "source": [
    "# 29 Write a Code to Raise a Custom Exception in Python\n",
    "\n",
    "class CustomError(Exception):\n",
    "    def __init__(self, message):\n",
    "        self.message = message\n",
    "        super().__init__(self.message)\n",
    "\n",
    "def check_value(value):\n",
    "    if value < 0:\n",
    "        raise CustomError(\"Negative value error.\")\n",
    "\n",
    "# Example usage\n",
    "check_value(-5)\n"
   ]
  },
  {
   "cell_type": "code",
   "execution_count": 16,
   "metadata": {},
   "outputs": [
    {
     "name": "stdout",
     "output_type": "stream",
     "text": [
      "Value cannot be negative.\n"
     ]
    }
   ],
   "source": [
    "# 30. Write a Function that Raises a Custom Exception When a Value Is Negative\n",
    "\n",
    "class NegativeValueError(Exception):\n",
    "    def __init__(self, message=\"Value cannot be negative.\"):\n",
    "        self.message = message\n",
    "        super().__init__(self.message)\n",
    "\n",
    "def validate_positive(value):\n",
    "    if value < 0:\n",
    "        raise NegativeValueError()\n",
    "\n",
    "# Example usage\n",
    "try:\n",
    "    validate_positive(-10)\n",
    "except NegativeValueError as e:\n",
    "    print(e)\n",
    "\n"
   ]
  },
  {
   "cell_type": "code",
   "execution_count": 17,
   "metadata": {},
   "outputs": [
    {
     "name": "stdout",
     "output_type": "stream",
     "text": [
      "No error occurred\n",
      "This will always execute\n"
     ]
    }
   ],
   "source": [
    "# 31. Role of try, except, else, and finally in Handling Exceptions\n",
    "\n",
    "# try: Block where you write code that might raise exceptions.\n",
    "# except: Block to handle exceptions raised in the try block.\n",
    "# else: Block to execute code if no exceptions are raised in the try block.\n",
    "# finally: Block to execute code regardless of whether an exception was raised or not.\n",
    "\n",
    "\n",
    "\n",
    "try:\n",
    "    value = int(\"5\")\n",
    "except ValueError:\n",
    "    print(\"ValueError occurred\")\n",
    "else:\n",
    "    print(\"No error occurred\")\n",
    "finally:\n",
    "    print(\"This will always execute\")\n",
    "\n",
    "\n",
    "\n"
   ]
  },
  {
   "cell_type": "code",
   "execution_count": 18,
   "metadata": {},
   "outputs": [],
   "source": [
    "# 32. How Custom Exceptions Improve Code Readability and Maintainability\n",
    "\n",
    "# Custom exceptions provide clear, specific error messages, making the code easier to understand and debug. They help in isolating error-handling logic, thus improving maintainability by providing meaningful names and messages for different error conditions.\n"
   ]
  },
  {
   "cell_type": "code",
   "execution_count": 19,
   "metadata": {},
   "outputs": [],
   "source": [
    "#33. What Is Multithreading\n",
    "\n",
    "# Multithreading is a technique where multiple threads are created within a single process to execute tasks concurrently. It allows for parallel execution and can improve the performance of applications by utilizing CPU resources more efficiently."
   ]
  },
  {
   "cell_type": "code",
   "execution_count": 20,
   "metadata": {},
   "outputs": [
    {
     "name": "stdout",
     "output_type": "stream",
     "text": [
      "0\n",
      "1\n",
      "2\n",
      "3\n",
      "4\n"
     ]
    }
   ],
   "source": [
    "# 34. Create a Thread in Python\n",
    "\n",
    "import threading\n",
    "\n",
    "def print_numbers():\n",
    "    for i in range(5):\n",
    "        print(i)\n",
    "\n",
    "# Create a thread\n",
    "thread = threading.Thread(target=print_numbers)\n",
    "\n",
    "# Start the thread\n",
    "thread.start()\n",
    "\n",
    "# Wait for the thread to finish\n",
    "thread.join()\n",
    "\n"
   ]
  },
  {
   "cell_type": "code",
   "execution_count": 21,
   "metadata": {},
   "outputs": [],
   "source": [
    "# 35. What Is the Global Interpreter Lock (GIL) in Python\n",
    "\n",
    "# The Global Interpreter Lock (GIL) is a mutex that protects access to Python objects, preventing multiple native threads from executing Python bytecodes simultaneously in a single process. This ensures thread safety but can limit the performance of CPU-bound multithreaded programs."
   ]
  },
  {
   "cell_type": "code",
   "execution_count": 22,
   "metadata": {},
   "outputs": [
    {
     "name": "stdout",
     "output_type": "stream",
     "text": [
      "0\n",
      "a\n",
      "1b\n",
      "\n",
      "c2\n",
      "\n",
      "3d\n",
      "\n",
      "e\n",
      "4\n"
     ]
    }
   ],
   "source": [
    "# 36. Implement a Simple Multithreading Example in Python\n",
    "\n",
    "import threading\n",
    "import time\n",
    "\n",
    "def print_numbers():\n",
    "    for i in range(5):\n",
    "        print(i)\n",
    "        time.sleep(1)\n",
    "\n",
    "def print_letters():\n",
    "    for letter in 'abcde':\n",
    "        print(letter)\n",
    "        time.sleep(1)\n",
    "\n",
    "# Create threads\n",
    "thread1 = threading.Thread(target=print_numbers)\n",
    "thread2 = threading.Thread(target=print_letters)\n",
    "\n",
    "# Start threads\n",
    "thread1.start()\n",
    "thread2.start()\n",
    "\n",
    "# Wait for threads to finish\n",
    "thread1.join()\n",
    "thread2.join()\n"
   ]
  },
  {
   "cell_type": "code",
   "execution_count": 23,
   "metadata": {},
   "outputs": [],
   "source": [
    "# 37. What Is the Purpose of the join() Method in Threading\n",
    "\n",
    "# The join() method ensures that a main program waits for threads to complete before proceeding. It blocks the calling thread until the thread whose join() method is called is terminated."
   ]
  },
  {
   "cell_type": "code",
   "execution_count": 24,
   "metadata": {},
   "outputs": [],
   "source": [
    "# 38. Describe a Scenario Where Multithreading Would Be Beneficial in Python\n",
    "\n",
    "\n",
    "# Multithreading is beneficial in I/O-bound tasks, such as reading from or writing to files, handling network connections, or user interface applications where tasks need to be performed concurrently without blocking the main program.\n",
    "\n",
    "\n"
   ]
  },
  {
   "cell_type": "code",
   "execution_count": 25,
   "metadata": {},
   "outputs": [],
   "source": [
    "# 39. What Is Multiprocessing in Python\n",
    "\n",
    "# Multiprocessing involves running multiple processes simultaneously, each with its own Python interpreter and memory space. It allows for parallel execution of CPU-bound tasks, leveraging multiple CPU cores.\n",
    "\n"
   ]
  },
  {
   "cell_type": "code",
   "execution_count": 26,
   "metadata": {},
   "outputs": [],
   "source": [
    "# 40. How Is Multiprocessing Different from Multithreading in Python\n",
    "\n",
    "\n",
    "# Memory: Multiprocessing uses separate memory space for each process, while multithreading uses shared memory space.\n",
    "# GIL: Multiprocessing bypasses the Global Interpreter Lock (GIL) allowing true parallelism, whereas multithreading is limited by the GIL.\n",
    "# Overhead: Multiprocessing has higher overhead due to process creation and inter-process communication, while multithreading has lower overhead but can be limited by the GIL.\n"
   ]
  },
  {
   "cell_type": "code",
   "execution_count": 27,
   "metadata": {},
   "outputs": [
    {
     "name": "stderr",
     "output_type": "stream",
     "text": [
      "Traceback (most recent call last):\n",
      "  File \"<string>\", line 1, in <module>\n",
      "  File \"/Library/Developer/CommandLineTools/Library/Frameworks/Python3.framework/Versions/3.9/lib/python3.9/multiprocessing/spawn.py\", line 116, in spawn_main\n",
      "    exitcode = _main(fd, parent_sentinel)\n",
      "  File \"/Library/Developer/CommandLineTools/Library/Frameworks/Python3.framework/Versions/3.9/lib/python3.9/multiprocessing/spawn.py\", line 126, in _main\n",
      "    self = reduction.pickle.load(from_parent)\n",
      "AttributeError: Can't get attribute 'print_numbers' on <module '__main__' (built-in)>\n"
     ]
    }
   ],
   "source": [
    "#  41. Create a Process Using the Multiprocessing Module in Python\n",
    "\n",
    "import multiprocessing\n",
    "\n",
    "def print_numbers():\n",
    "    for i in range(5):\n",
    "        print(i)\n",
    "\n",
    "if __name__ == '__main__':\n",
    "    process = multiprocessing.Process(target=print_numbers)\n",
    "    process.start()\n",
    "    process.join()\n"
   ]
  },
  {
   "cell_type": "code",
   "execution_count": 28,
   "metadata": {},
   "outputs": [
    {
     "name": "stderr",
     "output_type": "stream",
     "text": [
      "Process SpawnPoolWorker-2:\n",
      "Process SpawnPoolWorker-3:\n",
      "Traceback (most recent call last):\n",
      "Traceback (most recent call last):\n",
      "  File \"/Library/Developer/CommandLineTools/Library/Frameworks/Python3.framework/Versions/3.9/lib/python3.9/multiprocessing/process.py\", line 315, in _bootstrap\n",
      "    self.run()\n",
      "  File \"/Library/Developer/CommandLineTools/Library/Frameworks/Python3.framework/Versions/3.9/lib/python3.9/multiprocessing/process.py\", line 315, in _bootstrap\n",
      "    self.run()\n",
      "  File \"/Library/Developer/CommandLineTools/Library/Frameworks/Python3.framework/Versions/3.9/lib/python3.9/multiprocessing/process.py\", line 108, in run\n",
      "    self._target(*self._args, **self._kwargs)\n",
      "  File \"/Library/Developer/CommandLineTools/Library/Frameworks/Python3.framework/Versions/3.9/lib/python3.9/multiprocessing/process.py\", line 108, in run\n",
      "    self._target(*self._args, **self._kwargs)\n",
      "  File \"/Library/Developer/CommandLineTools/Library/Frameworks/Python3.framework/Versions/3.9/lib/python3.9/multiprocessing/pool.py\", line 114, in worker\n",
      "    task = get()\n",
      "  File \"/Library/Developer/CommandLineTools/Library/Frameworks/Python3.framework/Versions/3.9/lib/python3.9/multiprocessing/pool.py\", line 114, in worker\n",
      "    task = get()\n",
      "  File \"/Library/Developer/CommandLineTools/Library/Frameworks/Python3.framework/Versions/3.9/lib/python3.9/multiprocessing/queues.py\", line 368, in get\n",
      "    return _ForkingPickler.loads(res)\n",
      "AttributeError: Can't get attribute 'square' on <module '__main__' (built-in)>\n",
      "  File \"/Library/Developer/CommandLineTools/Library/Frameworks/Python3.framework/Versions/3.9/lib/python3.9/multiprocessing/queues.py\", line 368, in get\n",
      "    return _ForkingPickler.loads(res)\n",
      "AttributeError: Can't get attribute 'square' on <module '__main__' (built-in)>\n",
      "Process SpawnPoolWorker-4:\n",
      "Traceback (most recent call last):\n",
      "  File \"/Library/Developer/CommandLineTools/Library/Frameworks/Python3.framework/Versions/3.9/lib/python3.9/multiprocessing/process.py\", line 315, in _bootstrap\n",
      "    self.run()\n",
      "  File \"/Library/Developer/CommandLineTools/Library/Frameworks/Python3.framework/Versions/3.9/lib/python3.9/multiprocessing/process.py\", line 108, in run\n",
      "    self._target(*self._args, **self._kwargs)\n",
      "  File \"/Library/Developer/CommandLineTools/Library/Frameworks/Python3.framework/Versions/3.9/lib/python3.9/multiprocessing/pool.py\", line 114, in worker\n",
      "    task = get()\n",
      "  File \"/Library/Developer/CommandLineTools/Library/Frameworks/Python3.framework/Versions/3.9/lib/python3.9/multiprocessing/queues.py\", line 368, in get\n",
      "    return _ForkingPickler.loads(res)\n",
      "AttributeError: Can't get attribute 'square' on <module '__main__' (built-in)>\n",
      "Process SpawnPoolWorker-5:\n",
      "Traceback (most recent call last):\n",
      "  File \"/Library/Developer/CommandLineTools/Library/Frameworks/Python3.framework/Versions/3.9/lib/python3.9/multiprocessing/process.py\", line 315, in _bootstrap\n",
      "    self.run()\n",
      "  File \"/Library/Developer/CommandLineTools/Library/Frameworks/Python3.framework/Versions/3.9/lib/python3.9/multiprocessing/process.py\", line 108, in run\n",
      "    self._target(*self._args, **self._kwargs)\n",
      "  File \"/Library/Developer/CommandLineTools/Library/Frameworks/Python3.framework/Versions/3.9/lib/python3.9/multiprocessing/pool.py\", line 114, in worker\n",
      "    task = get()\n",
      "  File \"/Library/Developer/CommandLineTools/Library/Frameworks/Python3.framework/Versions/3.9/lib/python3.9/multiprocessing/queues.py\", line 368, in get\n",
      "    return _ForkingPickler.loads(res)\n",
      "AttributeError: Can't get attribute 'square' on <module '__main__' (built-in)>\n",
      "Process SpawnPoolWorker-6:\n",
      "Traceback (most recent call last):\n",
      "  File \"/Library/Developer/CommandLineTools/Library/Frameworks/Python3.framework/Versions/3.9/lib/python3.9/multiprocessing/process.py\", line 315, in _bootstrap\n",
      "    self.run()\n",
      "  File \"/Library/Developer/CommandLineTools/Library/Frameworks/Python3.framework/Versions/3.9/lib/python3.9/multiprocessing/process.py\", line 108, in run\n",
      "    self._target(*self._args, **self._kwargs)\n",
      "  File \"/Library/Developer/CommandLineTools/Library/Frameworks/Python3.framework/Versions/3.9/lib/python3.9/multiprocessing/pool.py\", line 114, in worker\n",
      "    task = get()\n",
      "  File \"/Library/Developer/CommandLineTools/Library/Frameworks/Python3.framework/Versions/3.9/lib/python3.9/multiprocessing/queues.py\", line 368, in get\n",
      "    return _ForkingPickler.loads(res)\n",
      "AttributeError: Can't get attribute 'square' on <module '__main__' (built-in)>\n"
     ]
    }
   ],
   "source": [
    "# 42. Explain the Concept of Pool in the Multiprocessing Module\n",
    "\n",
    "from multiprocessing import Pool\n",
    "\n",
    "def square(x):\n",
    "    return x * x\n",
    "\n",
    "if __name__ == '__main__':\n",
    "    with Pool(4) as pool:\n",
    "        results = pool.map(square, [1, 2, 3, 4, 5])\n",
    "    print(results)\n"
   ]
  },
  {
   "cell_type": "code",
   "execution_count": null,
   "metadata": {},
   "outputs": [],
   "source": [
    "# 43. Explain Inter-Process Communication in Multiprocessing\n",
    "\n",
    "from multiprocessing import Process, Queue\n",
    "\n",
    "def producer(queue):\n",
    "    queue.put('Hello')\n",
    "\n",
    "def consumer(queue):\n",
    "    message = queue.get()\n",
    "    print(message)\n",
    "\n",
    "if __name__ == '__main__':\n",
    "    queue = Queue()\n",
    "    p1 = Process(target=producer, args=(queue,))\n",
    "    p2 = Process(target=consumer, args=(queue,))\n",
    "    \n",
    "    p1.start()\n",
    "    p2.start()\n",
    "    \n",
    "    p1.join()\n",
    "    p2.join()\n",
    "\n"
   ]
  },
  {
   "cell_type": "code",
   "execution_count": null,
   "metadata": {},
   "outputs": [],
   "source": []
  }
 ],
 "metadata": {
  "kernelspec": {
   "display_name": "Python 3",
   "language": "python",
   "name": "python3"
  },
  "language_info": {
   "codemirror_mode": {
    "name": "ipython",
    "version": 3
   },
   "file_extension": ".py",
   "mimetype": "text/x-python",
   "name": "python",
   "nbconvert_exporter": "python",
   "pygments_lexer": "ipython3",
   "version": "3.9.6"
  }
 },
 "nbformat": 4,
 "nbformat_minor": 2
}
